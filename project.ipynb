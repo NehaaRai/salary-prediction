{
 "cells": [
  {
   "cell_type": "code",
   "execution_count": 2,
   "id": "66b1ea68-b91f-4ffb-9f1e-9fdc89ee8828",
   "metadata": {},
   "outputs": [],
   "source": [
    "import pandas as pd\n",
    "import numpy as np\n",
    "import matplotlib.pyplot as plt\n",
    "import seaborn as sns\n",
    "from IPython.display import display, HTML"
   ]
  },
  {
   "cell_type": "code",
   "execution_count": 3,
   "id": "7c86e29d-3c7c-4c4a-9236-237e57196cde",
   "metadata": {},
   "outputs": [
    {
     "data": {
      "text/html": [
       "Data Loading"
      ],
      "text/plain": [
       "<IPython.core.display.HTML object>"
      ]
     },
     "metadata": {},
     "output_type": "display_data"
    }
   ],
   "source": [
    "display(HTML('Data Loading'))"
   ]
  },
  {
   "cell_type": "code",
   "execution_count": 9,
   "id": "f9ae519a-6833-4654-82d9-0d687403ed22",
   "metadata": {},
   "outputs": [
    {
     "data": {
      "text/html": [
       "<div>\n",
       "<style scoped>\n",
       "    .dataframe tbody tr th:only-of-type {\n",
       "        vertical-align: middle;\n",
       "    }\n",
       "\n",
       "    .dataframe tbody tr th {\n",
       "        vertical-align: top;\n",
       "    }\n",
       "\n",
       "    .dataframe thead th {\n",
       "        text-align: right;\n",
       "    }\n",
       "</style>\n",
       "<table border=\"1\" class=\"dataframe\">\n",
       "  <thead>\n",
       "    <tr style=\"text-align: right;\">\n",
       "      <th></th>\n",
       "      <th>FIRST NAME</th>\n",
       "      <th>LAST NAME</th>\n",
       "      <th>SEX</th>\n",
       "      <th>DOJ</th>\n",
       "      <th>CURRENT DATE</th>\n",
       "      <th>DESIGNATION</th>\n",
       "      <th>AGE</th>\n",
       "      <th>SALARY</th>\n",
       "      <th>UNIT</th>\n",
       "      <th>LEAVES USED</th>\n",
       "      <th>LEAVES REMAINING</th>\n",
       "      <th>RATINGS</th>\n",
       "      <th>PAST EXP</th>\n",
       "    </tr>\n",
       "  </thead>\n",
       "  <tbody>\n",
       "    <tr>\n",
       "      <th>0</th>\n",
       "      <td>TOMASA</td>\n",
       "      <td>ARMEN</td>\n",
       "      <td>F</td>\n",
       "      <td>5-18-2014</td>\n",
       "      <td>01-07-2016</td>\n",
       "      <td>Analyst</td>\n",
       "      <td>21.0</td>\n",
       "      <td>44570</td>\n",
       "      <td>Finance</td>\n",
       "      <td>24.0</td>\n",
       "      <td>6.0</td>\n",
       "      <td>2.0</td>\n",
       "      <td>0</td>\n",
       "    </tr>\n",
       "    <tr>\n",
       "      <th>1</th>\n",
       "      <td>ANNIE</td>\n",
       "      <td>NaN</td>\n",
       "      <td>F</td>\n",
       "      <td>NaN</td>\n",
       "      <td>01-07-2016</td>\n",
       "      <td>Associate</td>\n",
       "      <td>NaN</td>\n",
       "      <td>89207</td>\n",
       "      <td>Web</td>\n",
       "      <td>NaN</td>\n",
       "      <td>13.0</td>\n",
       "      <td>NaN</td>\n",
       "      <td>7</td>\n",
       "    </tr>\n",
       "    <tr>\n",
       "      <th>2</th>\n",
       "      <td>OLIVE</td>\n",
       "      <td>ANCY</td>\n",
       "      <td>F</td>\n",
       "      <td>7-28-2014</td>\n",
       "      <td>01-07-2016</td>\n",
       "      <td>Analyst</td>\n",
       "      <td>21.0</td>\n",
       "      <td>40955</td>\n",
       "      <td>Finance</td>\n",
       "      <td>23.0</td>\n",
       "      <td>7.0</td>\n",
       "      <td>3.0</td>\n",
       "      <td>0</td>\n",
       "    </tr>\n",
       "    <tr>\n",
       "      <th>3</th>\n",
       "      <td>CHERRY</td>\n",
       "      <td>AQUILAR</td>\n",
       "      <td>F</td>\n",
       "      <td>04-03-2013</td>\n",
       "      <td>01-07-2016</td>\n",
       "      <td>Analyst</td>\n",
       "      <td>22.0</td>\n",
       "      <td>45550</td>\n",
       "      <td>IT</td>\n",
       "      <td>22.0</td>\n",
       "      <td>8.0</td>\n",
       "      <td>3.0</td>\n",
       "      <td>0</td>\n",
       "    </tr>\n",
       "    <tr>\n",
       "      <th>4</th>\n",
       "      <td>LEON</td>\n",
       "      <td>ABOULAHOUD</td>\n",
       "      <td>M</td>\n",
       "      <td>11-20-2014</td>\n",
       "      <td>01-07-2016</td>\n",
       "      <td>Analyst</td>\n",
       "      <td>NaN</td>\n",
       "      <td>43161</td>\n",
       "      <td>Operations</td>\n",
       "      <td>27.0</td>\n",
       "      <td>3.0</td>\n",
       "      <td>NaN</td>\n",
       "      <td>3</td>\n",
       "    </tr>\n",
       "    <tr>\n",
       "      <th>...</th>\n",
       "      <td>...</td>\n",
       "      <td>...</td>\n",
       "      <td>...</td>\n",
       "      <td>...</td>\n",
       "      <td>...</td>\n",
       "      <td>...</td>\n",
       "      <td>...</td>\n",
       "      <td>...</td>\n",
       "      <td>...</td>\n",
       "      <td>...</td>\n",
       "      <td>...</td>\n",
       "      <td>...</td>\n",
       "      <td>...</td>\n",
       "    </tr>\n",
       "    <tr>\n",
       "      <th>2634</th>\n",
       "      <td>KATHERINE</td>\n",
       "      <td>ALSDON</td>\n",
       "      <td>F</td>\n",
       "      <td>6-28-2011</td>\n",
       "      <td>01-07-2016</td>\n",
       "      <td>Senior Manager</td>\n",
       "      <td>36.0</td>\n",
       "      <td>185977</td>\n",
       "      <td>Management</td>\n",
       "      <td>15.0</td>\n",
       "      <td>15.0</td>\n",
       "      <td>5.0</td>\n",
       "      <td>10</td>\n",
       "    </tr>\n",
       "    <tr>\n",
       "      <th>2635</th>\n",
       "      <td>LOUISE</td>\n",
       "      <td>ALTARAS</td>\n",
       "      <td>F</td>\n",
       "      <td>1-14-2014</td>\n",
       "      <td>01-07-2016</td>\n",
       "      <td>Analyst</td>\n",
       "      <td>23.0</td>\n",
       "      <td>45758</td>\n",
       "      <td>IT</td>\n",
       "      <td>17.0</td>\n",
       "      <td>13.0</td>\n",
       "      <td>2.0</td>\n",
       "      <td>0</td>\n",
       "    </tr>\n",
       "    <tr>\n",
       "      <th>2636</th>\n",
       "      <td>RENEE</td>\n",
       "      <td>ALVINO</td>\n",
       "      <td>F</td>\n",
       "      <td>1-23-2014</td>\n",
       "      <td>01-07-2016</td>\n",
       "      <td>Analyst</td>\n",
       "      <td>21.0</td>\n",
       "      <td>47315</td>\n",
       "      <td>Web</td>\n",
       "      <td>29.0</td>\n",
       "      <td>1.0</td>\n",
       "      <td>5.0</td>\n",
       "      <td>0</td>\n",
       "    </tr>\n",
       "    <tr>\n",
       "      <th>2637</th>\n",
       "      <td>TERI</td>\n",
       "      <td>ANASTASIO</td>\n",
       "      <td>F</td>\n",
       "      <td>3-17-2014</td>\n",
       "      <td>01-07-2016</td>\n",
       "      <td>Analyst</td>\n",
       "      <td>24.0</td>\n",
       "      <td>45172</td>\n",
       "      <td>Web</td>\n",
       "      <td>23.0</td>\n",
       "      <td>7.0</td>\n",
       "      <td>3.0</td>\n",
       "      <td>1</td>\n",
       "    </tr>\n",
       "    <tr>\n",
       "      <th>2638</th>\n",
       "      <td>GREGORY</td>\n",
       "      <td>ABARCA</td>\n",
       "      <td>M</td>\n",
       "      <td>9-18-2014</td>\n",
       "      <td>01-07-2016</td>\n",
       "      <td>Analyst</td>\n",
       "      <td>24.0</td>\n",
       "      <td>49176</td>\n",
       "      <td>Marketing</td>\n",
       "      <td>17.0</td>\n",
       "      <td>13.0</td>\n",
       "      <td>2.0</td>\n",
       "      <td>2</td>\n",
       "    </tr>\n",
       "  </tbody>\n",
       "</table>\n",
       "<p>2639 rows × 13 columns</p>\n",
       "</div>"
      ],
      "text/plain": [
       "     FIRST NAME   LAST NAME SEX         DOJ CURRENT DATE     DESIGNATION  \\\n",
       "0        TOMASA       ARMEN   F   5-18-2014   01-07-2016         Analyst   \n",
       "1         ANNIE         NaN   F         NaN   01-07-2016       Associate   \n",
       "2         OLIVE        ANCY   F   7-28-2014   01-07-2016         Analyst   \n",
       "3        CHERRY     AQUILAR   F  04-03-2013   01-07-2016         Analyst   \n",
       "4          LEON  ABOULAHOUD   M  11-20-2014   01-07-2016         Analyst   \n",
       "...         ...         ...  ..         ...          ...             ...   \n",
       "2634  KATHERINE      ALSDON   F   6-28-2011   01-07-2016  Senior Manager   \n",
       "2635     LOUISE     ALTARAS   F   1-14-2014   01-07-2016         Analyst   \n",
       "2636      RENEE      ALVINO   F   1-23-2014   01-07-2016         Analyst   \n",
       "2637       TERI   ANASTASIO   F   3-17-2014   01-07-2016         Analyst   \n",
       "2638    GREGORY      ABARCA   M   9-18-2014   01-07-2016         Analyst   \n",
       "\n",
       "       AGE  SALARY        UNIT  LEAVES USED  LEAVES REMAINING  RATINGS  \\\n",
       "0     21.0   44570     Finance         24.0               6.0      2.0   \n",
       "1      NaN   89207         Web          NaN              13.0      NaN   \n",
       "2     21.0   40955     Finance         23.0               7.0      3.0   \n",
       "3     22.0   45550          IT         22.0               8.0      3.0   \n",
       "4      NaN   43161  Operations         27.0               3.0      NaN   \n",
       "...    ...     ...         ...          ...               ...      ...   \n",
       "2634  36.0  185977  Management         15.0              15.0      5.0   \n",
       "2635  23.0   45758          IT         17.0              13.0      2.0   \n",
       "2636  21.0   47315         Web         29.0               1.0      5.0   \n",
       "2637  24.0   45172         Web         23.0               7.0      3.0   \n",
       "2638  24.0   49176   Marketing         17.0              13.0      2.0   \n",
       "\n",
       "      PAST EXP  \n",
       "0            0  \n",
       "1            7  \n",
       "2            0  \n",
       "3            0  \n",
       "4            3  \n",
       "...        ...  \n",
       "2634        10  \n",
       "2635         0  \n",
       "2636         0  \n",
       "2637         1  \n",
       "2638         2  \n",
       "\n",
       "[2639 rows x 13 columns]"
      ]
     },
     "execution_count": 9,
     "metadata": {},
     "output_type": "execute_result"
    }
   ],
   "source": [
    "df = pd.read_csv(\"salary.csv\")\n",
    "df"
   ]
  },
  {
   "cell_type": "code",
   "execution_count": 10,
   "id": "f59d69d3-c51f-4937-ad3f-708416e39ab7",
   "metadata": {},
   "outputs": [
    {
     "data": {
      "text/html": [
       "<div>\n",
       "<style scoped>\n",
       "    .dataframe tbody tr th:only-of-type {\n",
       "        vertical-align: middle;\n",
       "    }\n",
       "\n",
       "    .dataframe tbody tr th {\n",
       "        vertical-align: top;\n",
       "    }\n",
       "\n",
       "    .dataframe thead th {\n",
       "        text-align: right;\n",
       "    }\n",
       "</style>\n",
       "<table border=\"1\" class=\"dataframe\">\n",
       "  <thead>\n",
       "    <tr style=\"text-align: right;\">\n",
       "      <th></th>\n",
       "      <th>FIRST NAME</th>\n",
       "      <th>LAST NAME</th>\n",
       "      <th>SEX</th>\n",
       "      <th>DOJ</th>\n",
       "      <th>CURRENT DATE</th>\n",
       "      <th>DESIGNATION</th>\n",
       "      <th>AGE</th>\n",
       "      <th>SALARY</th>\n",
       "      <th>UNIT</th>\n",
       "      <th>LEAVES USED</th>\n",
       "      <th>LEAVES REMAINING</th>\n",
       "      <th>RATINGS</th>\n",
       "      <th>PAST EXP</th>\n",
       "    </tr>\n",
       "  </thead>\n",
       "  <tbody>\n",
       "    <tr>\n",
       "      <th>0</th>\n",
       "      <td>TOMASA</td>\n",
       "      <td>ARMEN</td>\n",
       "      <td>F</td>\n",
       "      <td>5-18-2014</td>\n",
       "      <td>01-07-2016</td>\n",
       "      <td>Analyst</td>\n",
       "      <td>21.0</td>\n",
       "      <td>44570</td>\n",
       "      <td>Finance</td>\n",
       "      <td>24.0</td>\n",
       "      <td>6.0</td>\n",
       "      <td>2.0</td>\n",
       "      <td>0</td>\n",
       "    </tr>\n",
       "    <tr>\n",
       "      <th>1</th>\n",
       "      <td>ANNIE</td>\n",
       "      <td>NaN</td>\n",
       "      <td>F</td>\n",
       "      <td>NaN</td>\n",
       "      <td>01-07-2016</td>\n",
       "      <td>Associate</td>\n",
       "      <td>NaN</td>\n",
       "      <td>89207</td>\n",
       "      <td>Web</td>\n",
       "      <td>NaN</td>\n",
       "      <td>13.0</td>\n",
       "      <td>NaN</td>\n",
       "      <td>7</td>\n",
       "    </tr>\n",
       "    <tr>\n",
       "      <th>2</th>\n",
       "      <td>OLIVE</td>\n",
       "      <td>ANCY</td>\n",
       "      <td>F</td>\n",
       "      <td>7-28-2014</td>\n",
       "      <td>01-07-2016</td>\n",
       "      <td>Analyst</td>\n",
       "      <td>21.0</td>\n",
       "      <td>40955</td>\n",
       "      <td>Finance</td>\n",
       "      <td>23.0</td>\n",
       "      <td>7.0</td>\n",
       "      <td>3.0</td>\n",
       "      <td>0</td>\n",
       "    </tr>\n",
       "    <tr>\n",
       "      <th>3</th>\n",
       "      <td>CHERRY</td>\n",
       "      <td>AQUILAR</td>\n",
       "      <td>F</td>\n",
       "      <td>04-03-2013</td>\n",
       "      <td>01-07-2016</td>\n",
       "      <td>Analyst</td>\n",
       "      <td>22.0</td>\n",
       "      <td>45550</td>\n",
       "      <td>IT</td>\n",
       "      <td>22.0</td>\n",
       "      <td>8.0</td>\n",
       "      <td>3.0</td>\n",
       "      <td>0</td>\n",
       "    </tr>\n",
       "    <tr>\n",
       "      <th>4</th>\n",
       "      <td>LEON</td>\n",
       "      <td>ABOULAHOUD</td>\n",
       "      <td>M</td>\n",
       "      <td>11-20-2014</td>\n",
       "      <td>01-07-2016</td>\n",
       "      <td>Analyst</td>\n",
       "      <td>NaN</td>\n",
       "      <td>43161</td>\n",
       "      <td>Operations</td>\n",
       "      <td>27.0</td>\n",
       "      <td>3.0</td>\n",
       "      <td>NaN</td>\n",
       "      <td>3</td>\n",
       "    </tr>\n",
       "  </tbody>\n",
       "</table>\n",
       "</div>"
      ],
      "text/plain": [
       "  FIRST NAME   LAST NAME SEX         DOJ CURRENT DATE DESIGNATION   AGE  \\\n",
       "0     TOMASA       ARMEN   F   5-18-2014   01-07-2016     Analyst  21.0   \n",
       "1      ANNIE         NaN   F         NaN   01-07-2016   Associate   NaN   \n",
       "2      OLIVE        ANCY   F   7-28-2014   01-07-2016     Analyst  21.0   \n",
       "3     CHERRY     AQUILAR   F  04-03-2013   01-07-2016     Analyst  22.0   \n",
       "4       LEON  ABOULAHOUD   M  11-20-2014   01-07-2016     Analyst   NaN   \n",
       "\n",
       "   SALARY        UNIT  LEAVES USED  LEAVES REMAINING  RATINGS  PAST EXP  \n",
       "0   44570     Finance         24.0               6.0      2.0         0  \n",
       "1   89207         Web          NaN              13.0      NaN         7  \n",
       "2   40955     Finance         23.0               7.0      3.0         0  \n",
       "3   45550          IT         22.0               8.0      3.0         0  \n",
       "4   43161  Operations         27.0               3.0      NaN         3  "
      ]
     },
     "execution_count": 10,
     "metadata": {},
     "output_type": "execute_result"
    }
   ],
   "source": [
    "df.head()"
   ]
  },
  {
   "cell_type": "code",
   "execution_count": 11,
   "id": "dd0673bc-b50e-435f-9b31-0ce3377330d5",
   "metadata": {},
   "outputs": [
    {
     "data": {
      "text/plain": [
       "(2639, 13)"
      ]
     },
     "execution_count": 11,
     "metadata": {},
     "output_type": "execute_result"
    }
   ],
   "source": [
    "df.shape"
   ]
  },
  {
   "cell_type": "code",
   "execution_count": 12,
   "id": "79fdbdf8-6a84-461a-bf5b-37d2aef2a55a",
   "metadata": {},
   "outputs": [
    {
     "data": {
      "text/plain": [
       "Index(['FIRST NAME', 'LAST NAME', 'SEX', 'DOJ', 'CURRENT DATE', 'DESIGNATION',\n",
       "       'AGE', 'SALARY', 'UNIT', 'LEAVES USED', 'LEAVES REMAINING', 'RATINGS',\n",
       "       'PAST EXP'],\n",
       "      dtype='object')"
      ]
     },
     "execution_count": 12,
     "metadata": {},
     "output_type": "execute_result"
    }
   ],
   "source": [
    "df.columns"
   ]
  },
  {
   "cell_type": "code",
   "execution_count": 13,
   "id": "8cff19e8-3406-452d-9409-24c585aeec15",
   "metadata": {},
   "outputs": [
    {
     "data": {
      "text/plain": [
       "FIRST NAME           object\n",
       "LAST NAME            object\n",
       "SEX                  object\n",
       "DOJ                  object\n",
       "CURRENT DATE         object\n",
       "DESIGNATION          object\n",
       "AGE                 float64\n",
       "SALARY                int64\n",
       "UNIT                 object\n",
       "LEAVES USED         float64\n",
       "LEAVES REMAINING    float64\n",
       "RATINGS             float64\n",
       "PAST EXP              int64\n",
       "dtype: object"
      ]
     },
     "execution_count": 13,
     "metadata": {},
     "output_type": "execute_result"
    }
   ],
   "source": [
    "df.dtypes"
   ]
  },
  {
   "cell_type": "code",
   "execution_count": 14,
   "id": "988d8dff-3f0d-4bef-b11f-f7d4ed02222a",
   "metadata": {},
   "outputs": [
    {
     "name": "stdout",
     "output_type": "stream",
     "text": [
      "<class 'pandas.core.frame.DataFrame'>\n",
      "RangeIndex: 2639 entries, 0 to 2638\n",
      "Data columns (total 13 columns):\n",
      " #   Column            Non-Null Count  Dtype  \n",
      "---  ------            --------------  -----  \n",
      " 0   FIRST NAME        2639 non-null   object \n",
      " 1   LAST NAME         2637 non-null   object \n",
      " 2   SEX               2639 non-null   object \n",
      " 3   DOJ               2638 non-null   object \n",
      " 4   CURRENT DATE      2639 non-null   object \n",
      " 5   DESIGNATION       2639 non-null   object \n",
      " 6   AGE               2636 non-null   float64\n",
      " 7   SALARY            2639 non-null   int64  \n",
      " 8   UNIT              2639 non-null   object \n",
      " 9   LEAVES USED       2636 non-null   float64\n",
      " 10  LEAVES REMAINING  2637 non-null   float64\n",
      " 11  RATINGS           2637 non-null   float64\n",
      " 12  PAST EXP          2639 non-null   int64  \n",
      "dtypes: float64(4), int64(2), object(7)\n",
      "memory usage: 268.2+ KB\n"
     ]
    }
   ],
   "source": [
    "df.info()"
   ]
  },
  {
   "cell_type": "code",
   "execution_count": 15,
   "id": "f38aca96-240e-4315-88d4-1136a65157fc",
   "metadata": {},
   "outputs": [
    {
     "data": {
      "text/html": [
       "<div>\n",
       "<style scoped>\n",
       "    .dataframe tbody tr th:only-of-type {\n",
       "        vertical-align: middle;\n",
       "    }\n",
       "\n",
       "    .dataframe tbody tr th {\n",
       "        vertical-align: top;\n",
       "    }\n",
       "\n",
       "    .dataframe thead th {\n",
       "        text-align: right;\n",
       "    }\n",
       "</style>\n",
       "<table border=\"1\" class=\"dataframe\">\n",
       "  <thead>\n",
       "    <tr style=\"text-align: right;\">\n",
       "      <th></th>\n",
       "      <th>FIRST NAME</th>\n",
       "      <th>LAST NAME</th>\n",
       "      <th>SEX</th>\n",
       "      <th>DOJ</th>\n",
       "      <th>CURRENT DATE</th>\n",
       "      <th>DESIGNATION</th>\n",
       "      <th>AGE</th>\n",
       "      <th>SALARY</th>\n",
       "      <th>UNIT</th>\n",
       "      <th>LEAVES USED</th>\n",
       "      <th>LEAVES REMAINING</th>\n",
       "      <th>RATINGS</th>\n",
       "      <th>PAST EXP</th>\n",
       "    </tr>\n",
       "  </thead>\n",
       "  <tbody>\n",
       "    <tr>\n",
       "      <th>104</th>\n",
       "      <td>CARI</td>\n",
       "      <td>ARENALES</td>\n",
       "      <td>F</td>\n",
       "      <td>04-10-2014</td>\n",
       "      <td>01-07-2016</td>\n",
       "      <td>Senior Analyst</td>\n",
       "      <td>28.0</td>\n",
       "      <td>66338</td>\n",
       "      <td>Web</td>\n",
       "      <td>24.0</td>\n",
       "      <td>6.0</td>\n",
       "      <td>3.0</td>\n",
       "      <td>5</td>\n",
       "    </tr>\n",
       "    <tr>\n",
       "      <th>248</th>\n",
       "      <td>BOBBIE</td>\n",
       "      <td>AIDT</td>\n",
       "      <td>M</td>\n",
       "      <td>6-29-2013</td>\n",
       "      <td>01-07-2016</td>\n",
       "      <td>Senior Analyst</td>\n",
       "      <td>25.0</td>\n",
       "      <td>68505</td>\n",
       "      <td>Operations</td>\n",
       "      <td>15.0</td>\n",
       "      <td>15.0</td>\n",
       "      <td>3.0</td>\n",
       "      <td>1</td>\n",
       "    </tr>\n",
       "    <tr>\n",
       "      <th>400</th>\n",
       "      <td>JUAN</td>\n",
       "      <td>ABBASSI</td>\n",
       "      <td>M</td>\n",
       "      <td>07-01-2013</td>\n",
       "      <td>01-07-2016</td>\n",
       "      <td>Senior Analyst</td>\n",
       "      <td>27.0</td>\n",
       "      <td>61575</td>\n",
       "      <td>Finance</td>\n",
       "      <td>20.0</td>\n",
       "      <td>10.0</td>\n",
       "      <td>2.0</td>\n",
       "      <td>1</td>\n",
       "    </tr>\n",
       "    <tr>\n",
       "      <th>422</th>\n",
       "      <td>JODIE</td>\n",
       "      <td>ANIELLO</td>\n",
       "      <td>F</td>\n",
       "      <td>10-29-2014</td>\n",
       "      <td>01-07-2016</td>\n",
       "      <td>Analyst</td>\n",
       "      <td>24.0</td>\n",
       "      <td>43137</td>\n",
       "      <td>IT</td>\n",
       "      <td>27.0</td>\n",
       "      <td>3.0</td>\n",
       "      <td>2.0</td>\n",
       "      <td>2</td>\n",
       "    </tr>\n",
       "    <tr>\n",
       "      <th>446</th>\n",
       "      <td>ALEX</td>\n",
       "      <td>ABOLAFIA</td>\n",
       "      <td>M</td>\n",
       "      <td>11-10-2013</td>\n",
       "      <td>01-07-2016</td>\n",
       "      <td>Analyst</td>\n",
       "      <td>25.0</td>\n",
       "      <td>43352</td>\n",
       "      <td>Finance</td>\n",
       "      <td>27.0</td>\n",
       "      <td>3.0</td>\n",
       "      <td>4.0</td>\n",
       "      <td>2</td>\n",
       "    </tr>\n",
       "    <tr>\n",
       "      <th>...</th>\n",
       "      <td>...</td>\n",
       "      <td>...</td>\n",
       "      <td>...</td>\n",
       "      <td>...</td>\n",
       "      <td>...</td>\n",
       "      <td>...</td>\n",
       "      <td>...</td>\n",
       "      <td>...</td>\n",
       "      <td>...</td>\n",
       "      <td>...</td>\n",
       "      <td>...</td>\n",
       "      <td>...</td>\n",
       "      <td>...</td>\n",
       "    </tr>\n",
       "    <tr>\n",
       "      <th>2576</th>\n",
       "      <td>ROMEO</td>\n",
       "      <td>AINSLEY</td>\n",
       "      <td>M</td>\n",
       "      <td>11-20-2014</td>\n",
       "      <td>01-07-2016</td>\n",
       "      <td>Analyst</td>\n",
       "      <td>23.0</td>\n",
       "      <td>41052</td>\n",
       "      <td>IT</td>\n",
       "      <td>15.0</td>\n",
       "      <td>15.0</td>\n",
       "      <td>5.0</td>\n",
       "      <td>1</td>\n",
       "    </tr>\n",
       "    <tr>\n",
       "      <th>2591</th>\n",
       "      <td>ROYCE</td>\n",
       "      <td>AGOSTO</td>\n",
       "      <td>M</td>\n",
       "      <td>06-07-2014</td>\n",
       "      <td>01-07-2016</td>\n",
       "      <td>Analyst</td>\n",
       "      <td>24.0</td>\n",
       "      <td>48651</td>\n",
       "      <td>Web</td>\n",
       "      <td>27.0</td>\n",
       "      <td>3.0</td>\n",
       "      <td>5.0</td>\n",
       "      <td>1</td>\n",
       "    </tr>\n",
       "    <tr>\n",
       "      <th>2600</th>\n",
       "      <td>SHEREE</td>\n",
       "      <td>APPEL</td>\n",
       "      <td>F</td>\n",
       "      <td>9-24-2013</td>\n",
       "      <td>01-07-2016</td>\n",
       "      <td>Analyst</td>\n",
       "      <td>25.0</td>\n",
       "      <td>49559</td>\n",
       "      <td>Management</td>\n",
       "      <td>22.0</td>\n",
       "      <td>8.0</td>\n",
       "      <td>5.0</td>\n",
       "      <td>2</td>\n",
       "    </tr>\n",
       "    <tr>\n",
       "      <th>2624</th>\n",
       "      <td>JOSPEH</td>\n",
       "      <td>ALLIS</td>\n",
       "      <td>M</td>\n",
       "      <td>2-26-2014</td>\n",
       "      <td>01-07-2016</td>\n",
       "      <td>Analyst</td>\n",
       "      <td>22.0</td>\n",
       "      <td>45364</td>\n",
       "      <td>Web</td>\n",
       "      <td>20.0</td>\n",
       "      <td>10.0</td>\n",
       "      <td>2.0</td>\n",
       "      <td>0</td>\n",
       "    </tr>\n",
       "    <tr>\n",
       "      <th>2632</th>\n",
       "      <td>MARLENE</td>\n",
       "      <td>AMAYA</td>\n",
       "      <td>F</td>\n",
       "      <td>9-15-2014</td>\n",
       "      <td>01-07-2016</td>\n",
       "      <td>Analyst</td>\n",
       "      <td>22.0</td>\n",
       "      <td>43835</td>\n",
       "      <td>Management</td>\n",
       "      <td>26.0</td>\n",
       "      <td>4.0</td>\n",
       "      <td>4.0</td>\n",
       "      <td>0</td>\n",
       "    </tr>\n",
       "  </tbody>\n",
       "</table>\n",
       "<p>161 rows × 13 columns</p>\n",
       "</div>"
      ],
      "text/plain": [
       "     FIRST NAME LAST NAME SEX         DOJ CURRENT DATE     DESIGNATION   AGE  \\\n",
       "104        CARI  ARENALES   F  04-10-2014   01-07-2016  Senior Analyst  28.0   \n",
       "248      BOBBIE      AIDT   M   6-29-2013   01-07-2016  Senior Analyst  25.0   \n",
       "400        JUAN   ABBASSI   M  07-01-2013   01-07-2016  Senior Analyst  27.0   \n",
       "422       JODIE   ANIELLO   F  10-29-2014   01-07-2016         Analyst  24.0   \n",
       "446        ALEX  ABOLAFIA   M  11-10-2013   01-07-2016         Analyst  25.0   \n",
       "...         ...       ...  ..         ...          ...             ...   ...   \n",
       "2576      ROMEO   AINSLEY   M  11-20-2014   01-07-2016         Analyst  23.0   \n",
       "2591      ROYCE    AGOSTO   M  06-07-2014   01-07-2016         Analyst  24.0   \n",
       "2600     SHEREE     APPEL   F   9-24-2013   01-07-2016         Analyst  25.0   \n",
       "2624     JOSPEH     ALLIS   M   2-26-2014   01-07-2016         Analyst  22.0   \n",
       "2632    MARLENE     AMAYA   F   9-15-2014   01-07-2016         Analyst  22.0   \n",
       "\n",
       "      SALARY        UNIT  LEAVES USED  LEAVES REMAINING  RATINGS  PAST EXP  \n",
       "104    66338         Web         24.0               6.0      3.0         5  \n",
       "248    68505  Operations         15.0              15.0      3.0         1  \n",
       "400    61575     Finance         20.0              10.0      2.0         1  \n",
       "422    43137          IT         27.0               3.0      2.0         2  \n",
       "446    43352     Finance         27.0               3.0      4.0         2  \n",
       "...      ...         ...          ...               ...      ...       ...  \n",
       "2576   41052          IT         15.0              15.0      5.0         1  \n",
       "2591   48651         Web         27.0               3.0      5.0         1  \n",
       "2600   49559  Management         22.0               8.0      5.0         2  \n",
       "2624   45364         Web         20.0              10.0      2.0         0  \n",
       "2632   43835  Management         26.0               4.0      4.0         0  \n",
       "\n",
       "[161 rows x 13 columns]"
      ]
     },
     "execution_count": 15,
     "metadata": {},
     "output_type": "execute_result"
    }
   ],
   "source": [
    "df[df.duplicated()]"
   ]
  },
  {
   "cell_type": "code",
   "execution_count": 17,
   "id": "bd480303-32db-4324-83a7-639fdd97ff0d",
   "metadata": {},
   "outputs": [
    {
     "data": {
      "text/plain": [
       "(161, 13)"
      ]
     },
     "execution_count": 17,
     "metadata": {},
     "output_type": "execute_result"
    }
   ],
   "source": [
    "df[df.duplicated()].shape"
   ]
  },
  {
   "cell_type": "code",
   "execution_count": 18,
   "id": "627c1a8b-7a21-4d11-b146-4a17e70d84bb",
   "metadata": {},
   "outputs": [
    {
     "data": {
      "text/plain": [
       "(2639, 13)"
      ]
     },
     "execution_count": 18,
     "metadata": {},
     "output_type": "execute_result"
    }
   ],
   "source": [
    "df1 = df.drop_duplicates(keep = 'first')\n",
    "df.shape"
   ]
  },
  {
   "cell_type": "code",
   "execution_count": 19,
   "id": "35e6d44c-08c4-4300-865e-3724befabf03",
   "metadata": {},
   "outputs": [],
   "source": [
    "df1 = df.drop(['FIRST NAME', 'LAST NAME', 'DOJ', 'CURRENT DATE'], axis = 1)"
   ]
  },
  {
   "cell_type": "code",
   "execution_count": 20,
   "id": "dbada95f-4daa-4af3-ade0-216b17588ad1",
   "metadata": {},
   "outputs": [
    {
     "data": {
      "text/plain": [
       "(2639, 9)"
      ]
     },
     "execution_count": 20,
     "metadata": {},
     "output_type": "execute_result"
    }
   ],
   "source": [
    "df1.shape"
   ]
  },
  {
   "cell_type": "code",
   "execution_count": 21,
   "id": "5daa73bd-6512-4636-b872-28a895e9c170",
   "metadata": {},
   "outputs": [
    {
     "data": {
      "text/plain": [
       "SEX                 0\n",
       "DESIGNATION         0\n",
       "AGE                 3\n",
       "SALARY              0\n",
       "UNIT                0\n",
       "LEAVES USED         3\n",
       "LEAVES REMAINING    2\n",
       "RATINGS             2\n",
       "PAST EXP            0\n",
       "dtype: int64"
      ]
     },
     "execution_count": 21,
     "metadata": {},
     "output_type": "execute_result"
    }
   ],
   "source": [
    "df1.isnull().sum()"
   ]
  },
  {
   "cell_type": "code",
   "execution_count": 24,
   "id": "98d873e9-da5a-4ab4-bfe8-2f2b6211dd64",
   "metadata": {},
   "outputs": [
    {
     "data": {
      "text/plain": [
       "(2632, 9)"
      ]
     },
     "execution_count": 24,
     "metadata": {},
     "output_type": "execute_result"
    }
   ],
   "source": [
    "df1.dropna(how = 'any', inplace= True)\n",
    "df1.shape"
   ]
  },
  {
   "cell_type": "code",
   "execution_count": 25,
   "id": "14e2af74-1181-4a06-8654-ba9bda647788",
   "metadata": {},
   "outputs": [
    {
     "data": {
      "text/html": [
       "<div>\n",
       "<style scoped>\n",
       "    .dataframe tbody tr th:only-of-type {\n",
       "        vertical-align: middle;\n",
       "    }\n",
       "\n",
       "    .dataframe tbody tr th {\n",
       "        vertical-align: top;\n",
       "    }\n",
       "\n",
       "    .dataframe thead th {\n",
       "        text-align: right;\n",
       "    }\n",
       "</style>\n",
       "<table border=\"1\" class=\"dataframe\">\n",
       "  <thead>\n",
       "    <tr style=\"text-align: right;\">\n",
       "      <th></th>\n",
       "      <th>SEX</th>\n",
       "      <th>DESIGNATION</th>\n",
       "      <th>AGE</th>\n",
       "      <th>SALARY</th>\n",
       "      <th>UNIT</th>\n",
       "      <th>LEAVES USED</th>\n",
       "      <th>LEAVES REMAINING</th>\n",
       "      <th>RATINGS</th>\n",
       "      <th>PAST EXP</th>\n",
       "    </tr>\n",
       "  </thead>\n",
       "  <tbody>\n",
       "    <tr>\n",
       "      <th>0</th>\n",
       "      <td>F</td>\n",
       "      <td>Analyst</td>\n",
       "      <td>21.0</td>\n",
       "      <td>44570</td>\n",
       "      <td>Finance</td>\n",
       "      <td>24.0</td>\n",
       "      <td>6.0</td>\n",
       "      <td>2.0</td>\n",
       "      <td>0</td>\n",
       "    </tr>\n",
       "    <tr>\n",
       "      <th>2</th>\n",
       "      <td>F</td>\n",
       "      <td>Analyst</td>\n",
       "      <td>21.0</td>\n",
       "      <td>40955</td>\n",
       "      <td>Finance</td>\n",
       "      <td>23.0</td>\n",
       "      <td>7.0</td>\n",
       "      <td>3.0</td>\n",
       "      <td>0</td>\n",
       "    </tr>\n",
       "    <tr>\n",
       "      <th>3</th>\n",
       "      <td>F</td>\n",
       "      <td>Analyst</td>\n",
       "      <td>22.0</td>\n",
       "      <td>45550</td>\n",
       "      <td>IT</td>\n",
       "      <td>22.0</td>\n",
       "      <td>8.0</td>\n",
       "      <td>3.0</td>\n",
       "      <td>0</td>\n",
       "    </tr>\n",
       "    <tr>\n",
       "      <th>5</th>\n",
       "      <td>F</td>\n",
       "      <td>Analyst</td>\n",
       "      <td>22.0</td>\n",
       "      <td>48736</td>\n",
       "      <td>Marketing</td>\n",
       "      <td>20.0</td>\n",
       "      <td>10.0</td>\n",
       "      <td>4.0</td>\n",
       "      <td>0</td>\n",
       "    </tr>\n",
       "    <tr>\n",
       "      <th>6</th>\n",
       "      <td>M</td>\n",
       "      <td>Analyst</td>\n",
       "      <td>22.0</td>\n",
       "      <td>40339</td>\n",
       "      <td>Marketing</td>\n",
       "      <td>19.0</td>\n",
       "      <td>11.0</td>\n",
       "      <td>5.0</td>\n",
       "      <td>0</td>\n",
       "    </tr>\n",
       "  </tbody>\n",
       "</table>\n",
       "</div>"
      ],
      "text/plain": [
       "  SEX DESIGNATION   AGE  SALARY       UNIT  LEAVES USED  LEAVES REMAINING  \\\n",
       "0   F     Analyst  21.0   44570    Finance         24.0               6.0   \n",
       "2   F     Analyst  21.0   40955    Finance         23.0               7.0   \n",
       "3   F     Analyst  22.0   45550         IT         22.0               8.0   \n",
       "5   F     Analyst  22.0   48736  Marketing         20.0              10.0   \n",
       "6   M     Analyst  22.0   40339  Marketing         19.0              11.0   \n",
       "\n",
       "   RATINGS  PAST EXP  \n",
       "0      2.0         0  \n",
       "2      3.0         0  \n",
       "3      3.0         0  \n",
       "5      4.0         0  \n",
       "6      5.0         0  "
      ]
     },
     "execution_count": 25,
     "metadata": {},
     "output_type": "execute_result"
    }
   ],
   "source": [
    "df1.head()"
   ]
  },
  {
   "cell_type": "markdown",
   "id": "47070c47-2d8f-42be-85b8-668ae22a3bba",
   "metadata": {},
   "source": [
    "## Data Exploration and visualisation "
   ]
  },
  {
   "cell_type": "code",
   "execution_count": 27,
   "id": "b74f24f7-657d-4f55-932c-3da0bfa76c94",
   "metadata": {},
   "outputs": [
    {
     "data": {
      "text/html": [
       "<div>\n",
       "<style scoped>\n",
       "    .dataframe tbody tr th:only-of-type {\n",
       "        vertical-align: middle;\n",
       "    }\n",
       "\n",
       "    .dataframe tbody tr th {\n",
       "        vertical-align: top;\n",
       "    }\n",
       "\n",
       "    .dataframe thead th {\n",
       "        text-align: right;\n",
       "    }\n",
       "</style>\n",
       "<table border=\"1\" class=\"dataframe\">\n",
       "  <thead>\n",
       "    <tr style=\"text-align: right;\">\n",
       "      <th></th>\n",
       "      <th>AGE</th>\n",
       "      <th>SALARY</th>\n",
       "      <th>LEAVES USED</th>\n",
       "      <th>LEAVES REMAINING</th>\n",
       "      <th>RATINGS</th>\n",
       "      <th>PAST EXP</th>\n",
       "    </tr>\n",
       "  </thead>\n",
       "  <tbody>\n",
       "    <tr>\n",
       "      <th>count</th>\n",
       "      <td>2632.000000</td>\n",
       "      <td>2632.000000</td>\n",
       "      <td>2632.000000</td>\n",
       "      <td>2632.000000</td>\n",
       "      <td>2632.000000</td>\n",
       "      <td>2632.000000</td>\n",
       "    </tr>\n",
       "    <tr>\n",
       "      <th>mean</th>\n",
       "      <td>24.753799</td>\n",
       "      <td>58114.079787</td>\n",
       "      <td>22.497720</td>\n",
       "      <td>7.502280</td>\n",
       "      <td>3.486702</td>\n",
       "      <td>1.562310</td>\n",
       "    </tr>\n",
       "    <tr>\n",
       "      <th>std</th>\n",
       "      <td>3.904332</td>\n",
       "      <td>36861.179041</td>\n",
       "      <td>4.602397</td>\n",
       "      <td>4.602397</td>\n",
       "      <td>1.114081</td>\n",
       "      <td>2.725625</td>\n",
       "    </tr>\n",
       "    <tr>\n",
       "      <th>min</th>\n",
       "      <td>21.000000</td>\n",
       "      <td>40001.000000</td>\n",
       "      <td>15.000000</td>\n",
       "      <td>0.000000</td>\n",
       "      <td>2.000000</td>\n",
       "      <td>0.000000</td>\n",
       "    </tr>\n",
       "    <tr>\n",
       "      <th>25%</th>\n",
       "      <td>22.000000</td>\n",
       "      <td>43418.000000</td>\n",
       "      <td>19.000000</td>\n",
       "      <td>4.000000</td>\n",
       "      <td>2.000000</td>\n",
       "      <td>0.000000</td>\n",
       "    </tr>\n",
       "    <tr>\n",
       "      <th>50%</th>\n",
       "      <td>24.000000</td>\n",
       "      <td>46783.000000</td>\n",
       "      <td>22.000000</td>\n",
       "      <td>8.000000</td>\n",
       "      <td>3.000000</td>\n",
       "      <td>1.000000</td>\n",
       "    </tr>\n",
       "    <tr>\n",
       "      <th>75%</th>\n",
       "      <td>25.000000</td>\n",
       "      <td>51390.750000</td>\n",
       "      <td>26.000000</td>\n",
       "      <td>11.000000</td>\n",
       "      <td>4.000000</td>\n",
       "      <td>2.000000</td>\n",
       "    </tr>\n",
       "    <tr>\n",
       "      <th>max</th>\n",
       "      <td>45.000000</td>\n",
       "      <td>388112.000000</td>\n",
       "      <td>30.000000</td>\n",
       "      <td>15.000000</td>\n",
       "      <td>5.000000</td>\n",
       "      <td>23.000000</td>\n",
       "    </tr>\n",
       "  </tbody>\n",
       "</table>\n",
       "</div>"
      ],
      "text/plain": [
       "               AGE         SALARY  LEAVES USED  LEAVES REMAINING      RATINGS  \\\n",
       "count  2632.000000    2632.000000  2632.000000       2632.000000  2632.000000   \n",
       "mean     24.753799   58114.079787    22.497720          7.502280     3.486702   \n",
       "std       3.904332   36861.179041     4.602397          4.602397     1.114081   \n",
       "min      21.000000   40001.000000    15.000000          0.000000     2.000000   \n",
       "25%      22.000000   43418.000000    19.000000          4.000000     2.000000   \n",
       "50%      24.000000   46783.000000    22.000000          8.000000     3.000000   \n",
       "75%      25.000000   51390.750000    26.000000         11.000000     4.000000   \n",
       "max      45.000000  388112.000000    30.000000         15.000000     5.000000   \n",
       "\n",
       "          PAST EXP  \n",
       "count  2632.000000  \n",
       "mean      1.562310  \n",
       "std       2.725625  \n",
       "min       0.000000  \n",
       "25%       0.000000  \n",
       "50%       1.000000  \n",
       "75%       2.000000  \n",
       "max      23.000000  "
      ]
     },
     "execution_count": 27,
     "metadata": {},
     "output_type": "execute_result"
    }
   ],
   "source": [
    "df1.describe()"
   ]
  },
  {
   "cell_type": "code",
   "execution_count": 30,
   "id": "36487996-46d6-4e06-b9d7-bf760299136e",
   "metadata": {},
   "outputs": [
    {
     "data": {
      "text/html": [
       "<div>\n",
       "<style scoped>\n",
       "    .dataframe tbody tr th:only-of-type {\n",
       "        vertical-align: middle;\n",
       "    }\n",
       "\n",
       "    .dataframe tbody tr th {\n",
       "        vertical-align: top;\n",
       "    }\n",
       "\n",
       "    .dataframe thead th {\n",
       "        text-align: right;\n",
       "    }\n",
       "</style>\n",
       "<table border=\"1\" class=\"dataframe\">\n",
       "  <thead>\n",
       "    <tr style=\"text-align: right;\">\n",
       "      <th></th>\n",
       "      <th>AGE</th>\n",
       "      <th>SALARY</th>\n",
       "      <th>LEAVES USED</th>\n",
       "      <th>LEAVES REMAINING</th>\n",
       "      <th>RATINGS</th>\n",
       "      <th>PAST EXP</th>\n",
       "    </tr>\n",
       "  </thead>\n",
       "  <tbody>\n",
       "    <tr>\n",
       "      <th>AGE</th>\n",
       "      <td>1.000000</td>\n",
       "      <td>0.872213</td>\n",
       "      <td>0.007825</td>\n",
       "      <td>-0.006515</td>\n",
       "      <td>0.036801</td>\n",
       "      <td>0.903926</td>\n",
       "    </tr>\n",
       "    <tr>\n",
       "      <th>SALARY</th>\n",
       "      <td>0.872213</td>\n",
       "      <td>1.000000</td>\n",
       "      <td>0.006498</td>\n",
       "      <td>-0.005422</td>\n",
       "      <td>0.020248</td>\n",
       "      <td>0.854046</td>\n",
       "    </tr>\n",
       "    <tr>\n",
       "      <th>LEAVES USED</th>\n",
       "      <td>0.007825</td>\n",
       "      <td>0.006498</td>\n",
       "      <td>1.000000</td>\n",
       "      <td>-1.000000</td>\n",
       "      <td>0.002200</td>\n",
       "      <td>0.008601</td>\n",
       "    </tr>\n",
       "    <tr>\n",
       "      <th>LEAVES REMAINING</th>\n",
       "      <td>-0.006515</td>\n",
       "      <td>-0.005422</td>\n",
       "      <td>-1.000000</td>\n",
       "      <td>1.000000</td>\n",
       "      <td>-0.003415</td>\n",
       "      <td>-0.006728</td>\n",
       "    </tr>\n",
       "    <tr>\n",
       "      <th>RATINGS</th>\n",
       "      <td>0.036801</td>\n",
       "      <td>0.020248</td>\n",
       "      <td>0.002200</td>\n",
       "      <td>-0.003415</td>\n",
       "      <td>1.000000</td>\n",
       "      <td>0.040123</td>\n",
       "    </tr>\n",
       "    <tr>\n",
       "      <th>PAST EXP</th>\n",
       "      <td>0.903926</td>\n",
       "      <td>0.854046</td>\n",
       "      <td>0.008601</td>\n",
       "      <td>-0.006728</td>\n",
       "      <td>0.040123</td>\n",
       "      <td>1.000000</td>\n",
       "    </tr>\n",
       "  </tbody>\n",
       "</table>\n",
       "</div>"
      ],
      "text/plain": [
       "                       AGE    SALARY  LEAVES USED  LEAVES REMAINING   RATINGS  \\\n",
       "AGE               1.000000  0.872213     0.007825         -0.006515  0.036801   \n",
       "SALARY            0.872213  1.000000     0.006498         -0.005422  0.020248   \n",
       "LEAVES USED       0.007825  0.006498     1.000000         -1.000000  0.002200   \n",
       "LEAVES REMAINING -0.006515 -0.005422    -1.000000          1.000000 -0.003415   \n",
       "RATINGS           0.036801  0.020248     0.002200         -0.003415  1.000000   \n",
       "PAST EXP          0.903926  0.854046     0.008601         -0.006728  0.040123   \n",
       "\n",
       "                  PAST EXP  \n",
       "AGE               0.903926  \n",
       "SALARY            0.854046  \n",
       "LEAVES USED       0.008601  \n",
       "LEAVES REMAINING -0.006728  \n",
       "RATINGS           0.040123  \n",
       "PAST EXP          1.000000  "
      ]
     },
     "execution_count": 30,
     "metadata": {},
     "output_type": "execute_result"
    }
   ],
   "source": [
    "corr = df[['AGE', 'SALARY', 'LEAVES USED', 'LEAVES REMAINING', \n",
    "           'RATINGS', 'PAST EXP']].corr()\n",
    "corr"
   ]
  },
  {
   "cell_type": "code",
   "execution_count": 31,
   "id": "d1177dad-e647-4c1c-9a3b-e4570291a9d9",
   "metadata": {},
   "outputs": [
    {
     "data": {
      "text/plain": [
       "<Axes: >"
      ]
     },
     "execution_count": 31,
     "metadata": {},
     "output_type": "execute_result"
    },
    {
     "data": {
      "image/png": "[encoded data removed]",
      "text/plain": [
       "<Figure size 640x480 with 2 Axes>"
      ]
     },
     "metadata": {},
     "output_type": "display_data"
    }
   ],
   "source": [
    "sns.heatmap(corr, annot = True)"
   ]
  },
  {
   "cell_type": "markdown",
   "id": "266799dd-dd95-496d-8dff-ad2e258d18de",
   "metadata": {},
   "source": [
    "## Data visualisation-bar chart, box plot, histogram"
   ]
  },
  {
   "cell_type": "code",
   "execution_count": 32,
   "id": "d566bf9b-3062-4612-a2c7-4e1d1e152b09",
   "metadata": {},
   "outputs": [
    {
     "data": {
      "text/plain": [
       "DESIGNATION\n",
       "Analyst           1944\n",
       "Senior Analyst     356\n",
       "Associate          158\n",
       "Manager             81\n",
       "Senior Manager      61\n",
       "Director            32\n",
       "Name: count, dtype: int64"
      ]
     },
     "execution_count": 32,
     "metadata": {},
     "output_type": "execute_result"
    }
   ],
   "source": [
    "df1['DESIGNATION'].value_counts()"
   ]
  },
  {
   "cell_type": "code",
   "execution_count": 35,
   "id": "7b0017f0-5ec5-4d05-b94f-6538246a3cc1",
   "metadata": {},
   "outputs": [
    {
     "data": {
      "text/plain": [
       "<Axes: ylabel='count'>"
      ]
     },
     "execution_count": 35,
     "metadata": {},
     "output_type": "execute_result"
    },
    {
     "data": {
      "image/png": "[encoded data removed]",
      "text/plain": [
       "<Figure size 640x480 with 1 Axes>"
      ]
     },
     "metadata": {},
     "output_type": "display_data"
    }
   ],
   "source": [
    "df1['DESIGNATION'].value_counts().plot(kind = 'pie')"
   ]
  },
  {
   "cell_type": "code",
   "execution_count": 36,
   "id": "8ae29658-2fe5-45e6-a735-2b69a6bbb6f3",
   "metadata": {},
   "outputs": [
    {
     "data": {
      "text/plain": [
       "SEX\n",
       "F    1341\n",
       "M    1291\n",
       "Name: count, dtype: int64"
      ]
     },
     "execution_count": 36,
     "metadata": {},
     "output_type": "execute_result"
    }
   ],
   "source": [
    "df1['SEX'].value_counts()"
   ]
  },
  {
   "cell_type": "code",
   "execution_count": 37,
   "id": "54ba003a-e42a-47f1-ba8a-c11702e60ff4",
   "metadata": {},
   "outputs": [
    {
     "data": {
      "text/plain": [
       "<Axes: xlabel='SEX'>"
      ]
     },
     "execution_count": 37,
     "metadata": {},
     "output_type": "execute_result"
    },
    {
     "data": {
      "image/png": "[encoded data removed]",
      "text/plain": [
       "<Figure size 640x480 with 1 Axes>"
      ]
     },
     "metadata": {},
     "output_type": "display_data"
    }
   ],
   "source": [
    "df1['SEX'].value_counts().plot(kind = 'bar')"
   ]
  },
  {
   "cell_type": "code",
   "execution_count": 38,
   "id": "5f9e0ace-df4c-4d8c-ad53-81a0903d85a0",
   "metadata": {},
   "outputs": [
    {
     "data": {
      "text/plain": [
       "AGE\n",
       "25.0    484\n",
       "22.0    422\n",
       "23.0    398\n",
       "24.0    389\n",
       "21.0    354\n",
       "28.0    130\n",
       "26.0     94\n",
       "27.0     64\n",
       "32.0     62\n",
       "29.0     34\n",
       "35.0     32\n",
       "31.0     27\n",
       "30.0     26\n",
       "33.0     21\n",
       "34.0     18\n",
       "39.0     16\n",
       "36.0     12\n",
       "38.0     11\n",
       "37.0     11\n",
       "40.0      7\n",
       "41.0      5\n",
       "45.0      5\n",
       "42.0      4\n",
       "43.0      3\n",
       "44.0      3\n",
       "Name: count, dtype: int64"
      ]
     },
     "execution_count": 38,
     "metadata": {},
     "output_type": "execute_result"
    }
   ],
   "source": [
    "df1['AGE'].value_counts()"
   ]
  },
  {
   "cell_type": "code",
   "execution_count": 40,
   "id": "247e2789-831e-4274-af97-21ad9711339e",
   "metadata": {},
   "outputs": [
    {
     "name": "stderr",
     "output_type": "stream",
     "text": [
      "C:\\Users\\nr725\\AppData\\Local\\Temp\\ipykernel_1088\\422443712.py:2: FutureWarning: \n",
      "\n",
      "Passing `palette` without assigning `hue` is deprecated and will be removed in v0.14.0. Assign the `x` variable to `hue` and set `legend=False` for the same effect.\n",
      "\n",
      "  sns.countplot(data=df1, x='AGE', palette='viridis')\n",
      "C:\\Python311\\Lib\\site-packages\\seaborn\\_base.py:948: FutureWarning: When grouping with a length-1 list-like, you will need to pass a length-1 tuple to get_group in a future version of pandas. Pass `(name,)` instead of `name` to silence this warning.\n",
      "  data_subset = grouped_data.get_group(pd_key)\n",
      "C:\\Python311\\Lib\\site-packages\\seaborn\\_base.py:948: FutureWarning: When grouping with a length-1 list-like, you will need to pass a length-1 tuple to get_group in a future version of pandas. Pass `(name,)` instead of `name` to silence this warning.\n",
      "  data_subset = grouped_data.get_group(pd_key)\n",
      "C:\\Python311\\Lib\\site-packages\\seaborn\\_base.py:948: FutureWarning: When grouping with a length-1 list-like, you will need to pass a length-1 tuple to get_group in a future version of pandas. Pass `(name,)` instead of `name` to silence this warning.\n",
      "  data_subset = grouped_data.get_group(pd_key)\n",
      "C:\\Python311\\Lib\\site-packages\\seaborn\\_base.py:948: FutureWarning: When grouping with a length-1 list-like, you will need to pass a length-1 tuple to get_group in a future version of pandas. Pass `(name,)` instead of `name` to silence this warning.\n",
      "  data_subset = grouped_data.get_group(pd_key)\n",
      "C:\\Python311\\Lib\\site-packages\\seaborn\\_base.py:948: FutureWarning: When grouping with a length-1 list-like, you will need to pass a length-1 tuple to get_group in a future version of pandas. Pass `(name,)` instead of `name` to silence this warning.\n",
      "  data_subset = grouped_data.get_group(pd_key)\n",
      "C:\\Python311\\Lib\\site-packages\\seaborn\\_base.py:948: FutureWarning: When grouping with a length-1 list-like, you will need to pass a length-1 tuple to get_group in a future version of pandas. Pass `(name,)` instead of `name` to silence this warning.\n",
      "  data_subset = grouped_data.get_group(pd_key)\n",
      "C:\\Python311\\Lib\\site-packages\\seaborn\\_base.py:948: FutureWarning: When grouping with a length-1 list-like, you will need to pass a length-1 tuple to get_group in a future version of pandas. Pass `(name,)` instead of `name` to silence this warning.\n",
      "  data_subset = grouped_data.get_group(pd_key)\n",
      "C:\\Python311\\Lib\\site-packages\\seaborn\\_base.py:948: FutureWarning: When grouping with a length-1 list-like, you will need to pass a length-1 tuple to get_group in a future version of pandas. Pass `(name,)` instead of `name` to silence this warning.\n",
      "  data_subset = grouped_data.get_group(pd_key)\n",
      "C:\\Python311\\Lib\\site-packages\\seaborn\\_base.py:948: FutureWarning: When grouping with a length-1 list-like, you will need to pass a length-1 tuple to get_group in a future version of pandas. Pass `(name,)` instead of `name` to silence this warning.\n",
      "  data_subset = grouped_data.get_group(pd_key)\n",
      "C:\\Python311\\Lib\\site-packages\\seaborn\\_base.py:948: FutureWarning: When grouping with a length-1 list-like, you will need to pass a length-1 tuple to get_group in a future version of pandas. Pass `(name,)` instead of `name` to silence this warning.\n",
      "  data_subset = grouped_data.get_group(pd_key)\n",
      "C:\\Python311\\Lib\\site-packages\\seaborn\\_base.py:948: FutureWarning: When grouping with a length-1 list-like, you will need to pass a length-1 tuple to get_group in a future version of pandas. Pass `(name,)` instead of `name` to silence this warning.\n",
      "  data_subset = grouped_data.get_group(pd_key)\n",
      "C:\\Python311\\Lib\\site-packages\\seaborn\\_base.py:948: FutureWarning: When grouping with a length-1 list-like, you will need to pass a length-1 tuple to get_group in a future version of pandas. Pass `(name,)` instead of `name` to silence this warning.\n",
      "  data_subset = grouped_data.get_group(pd_key)\n",
      "C:\\Python311\\Lib\\site-packages\\seaborn\\_base.py:948: FutureWarning: When grouping with a length-1 list-like, you will need to pass a length-1 tuple to get_group in a future version of pandas. Pass `(name,)` instead of `name` to silence this warning.\n",
      "  data_subset = grouped_data.get_group(pd_key)\n",
      "C:\\Python311\\Lib\\site-packages\\seaborn\\_base.py:948: FutureWarning: When grouping with a length-1 list-like, you will need to pass a length-1 tuple to get_group in a future version of pandas. Pass `(name,)` instead of `name` to silence this warning.\n",
      "  data_subset = grouped_data.get_group(pd_key)\n",
      "C:\\Python311\\Lib\\site-packages\\seaborn\\_base.py:948: FutureWarning: When grouping with a length-1 list-like, you will need to pass a length-1 tuple to get_group in a future version of pandas. Pass `(name,)` instead of `name` to silence this warning.\n",
      "  data_subset = grouped_data.get_group(pd_key)\n",
      "C:\\Python311\\Lib\\site-packages\\seaborn\\_base.py:948: FutureWarning: When grouping with a length-1 list-like, you will need to pass a length-1 tuple to get_group in a future version of pandas. Pass `(name,)` instead of `name` to silence this warning.\n",
      "  data_subset = grouped_data.get_group(pd_key)\n",
      "C:\\Python311\\Lib\\site-packages\\seaborn\\_base.py:948: FutureWarning: When grouping with a length-1 list-like, you will need to pass a length-1 tuple to get_group in a future version of pandas. Pass `(name,)` instead of `name` to silence this warning.\n",
      "  data_subset = grouped_data.get_group(pd_key)\n",
      "C:\\Python311\\Lib\\site-packages\\seaborn\\_base.py:948: FutureWarning: When grouping with a length-1 list-like, you will need to pass a length-1 tuple to get_group in a future version of pandas. Pass `(name,)` instead of `name` to silence this warning.\n",
      "  data_subset = grouped_data.get_group(pd_key)\n",
      "C:\\Python311\\Lib\\site-packages\\seaborn\\_base.py:948: FutureWarning: When grouping with a length-1 list-like, you will need to pass a length-1 tuple to get_group in a future version of pandas. Pass `(name,)` instead of `name` to silence this warning.\n",
      "  data_subset = grouped_data.get_group(pd_key)\n",
      "C:\\Python311\\Lib\\site-packages\\seaborn\\_base.py:948: FutureWarning: When grouping with a length-1 list-like, you will need to pass a length-1 tuple to get_group in a future version of pandas. Pass `(name,)` instead of `name` to silence this warning.\n",
      "  data_subset = grouped_data.get_group(pd_key)\n",
      "C:\\Python311\\Lib\\site-packages\\seaborn\\_base.py:948: FutureWarning: When grouping with a length-1 list-like, you will need to pass a length-1 tuple to get_group in a future version of pandas. Pass `(name,)` instead of `name` to silence this warning.\n",
      "  data_subset = grouped_data.get_group(pd_key)\n",
      "C:\\Python311\\Lib\\site-packages\\seaborn\\_base.py:948: FutureWarning: When grouping with a length-1 list-like, you will need to pass a length-1 tuple to get_group in a future version of pandas. Pass `(name,)` instead of `name` to silence this warning.\n",
      "  data_subset = grouped_data.get_group(pd_key)\n",
      "C:\\Python311\\Lib\\site-packages\\seaborn\\_base.py:948: FutureWarning: When grouping with a length-1 list-like, you will need to pass a length-1 tuple to get_group in a future version of pandas. Pass `(name,)` instead of `name` to silence this warning.\n",
      "  data_subset = grouped_data.get_group(pd_key)\n",
      "C:\\Python311\\Lib\\site-packages\\seaborn\\_base.py:948: FutureWarning: When grouping with a length-1 list-like, you will need to pass a length-1 tuple to get_group in a future version of pandas. Pass `(name,)` instead of `name` to silence this warning.\n",
      "  data_subset = grouped_data.get_group(pd_key)\n",
      "C:\\Python311\\Lib\\site-packages\\seaborn\\_base.py:948: FutureWarning: When grouping with a length-1 list-like, you will need to pass a length-1 tuple to get_group in a future version of pandas. Pass `(name,)` instead of `name` to silence this warning.\n",
      "  data_subset = grouped_data.get_group(pd_key)\n"
     ]
    },
    {
     "data": {
      "image/png": "[encoded data removed]",
      "text/plain": [
       "<Figure size 1000x500 with 1 Axes>"
      ]
     },
     "metadata": {},
     "output_type": "display_data"
    }
   ],
   "source": [
    "plt.figure(figsize=(10, 5))\n",
    "sns.countplot(data=df1, x='AGE', palette='viridis')\n",
    "plt.xlabel('AGE')\n",
    "plt.ylabel('Count')\n",
    "plt.title('Distribution of Age')\n",
    "plt.show()"
   ]
  },
  {
   "cell_type": "code",
   "execution_count": 41,
   "id": "e9e64781-c22e-4054-8520-77463c9d98ca",
   "metadata": {},
   "outputs": [
    {
     "data": {
      "text/plain": [
       "PAST EXP\n",
       "0     1299\n",
       "1      494\n",
       "2      360\n",
       "3      167\n",
       "5       56\n",
       "4       56\n",
       "6       47\n",
       "8       27\n",
       "7       26\n",
       "10      21\n",
       "11      17\n",
       "9       16\n",
       "13      11\n",
       "12      10\n",
       "17       6\n",
       "15       6\n",
       "14       4\n",
       "16       4\n",
       "18       2\n",
       "19       2\n",
       "23       1\n",
       "Name: count, dtype: int64"
      ]
     },
     "execution_count": 41,
     "metadata": {},
     "output_type": "execute_result"
    }
   ],
   "source": [
    "df1['PAST EXP'].value_counts()"
   ]
  },
  {
   "cell_type": "code",
   "execution_count": 42,
   "id": "9979de4e-1a3a-440c-9795-7f522bb5b765",
   "metadata": {},
   "outputs": [
    {
     "data": {
      "text/plain": [
       "<Axes: xlabel='PAST EXP'>"
      ]
     },
     "execution_count": 42,
     "metadata": {},
     "output_type": "execute_result"
    },
    {
     "data": {
      "image/png": "[encoded data removed]",
      "text/plain": [
       "<Figure size 640x480 with 1 Axes>"
      ]
     },
     "metadata": {},
     "output_type": "display_data"
    }
   ],
   "source": [
    "df1['PAST EXP'].value_counts().plot(kind='bar')"
   ]
  },
  {
   "cell_type": "code",
   "execution_count": 43,
   "id": "961ad6ba-0387-43ab-9e1e-2e01c60dc5b3",
   "metadata": {},
   "outputs": [
    {
     "data": {
      "text/plain": [
       "<Axes: ylabel='Frequency'>"
      ]
     },
     "execution_count": 43,
     "metadata": {},
     "output_type": "execute_result"
    },
    {
     "data": {
      "image/png": "[encoded data removed]",
      "text/plain": [
       "<Figure size 640x480 with 1 Axes>"
      ]
     },
     "metadata": {},
     "output_type": "display_data"
    }
   ],
   "source": [
    "df1['SALARY'].plot(kind = 'hist')"
   ]
  },
  {
   "cell_type": "code",
   "execution_count": 45,
   "id": "aeac14d1-7248-4b8d-acbf-f6f60682eead",
   "metadata": {},
   "outputs": [
    {
     "data": {
      "text/plain": [
       "LEAVES USED\n",
       "19.0    184\n",
       "25.0    182\n",
       "29.0    173\n",
       "28.0    172\n",
       "26.0    171\n",
       "22.0    170\n",
       "15.0    167\n",
       "24.0    163\n",
       "16.0    163\n",
       "18.0    161\n",
       "17.0    160\n",
       "21.0    157\n",
       "20.0    156\n",
       "27.0    155\n",
       "30.0    150\n",
       "23.0    148\n",
       "Name: count, dtype: int64"
      ]
     },
     "execution_count": 45,
     "metadata": {},
     "output_type": "execute_result"
    }
   ],
   "source": [
    "df1['LEAVES USED'].value_counts()"
   ]
  },
  {
   "cell_type": "code",
   "execution_count": 46,
   "id": "25345d00-41ad-408e-bc53-7299549ae25b",
   "metadata": {},
   "outputs": [
    {
     "data": {
      "text/plain": [
       "<Axes: ylabel='LEAVES USED'>"
      ]
     },
     "execution_count": 46,
     "metadata": {},
     "output_type": "execute_result"
    },
    {
     "data": {
      "image/png": "[encoded data removed]",
      "text/plain": [
       "<Figure size 640x480 with 1 Axes>"
      ]
     },
     "metadata": {},
     "output_type": "display_data"
    }
   ],
   "source": [
    "df1['LEAVES USED'].value_counts().plot(kind = 'barh')"
   ]
  },
  {
   "cell_type": "code",
   "execution_count": 47,
   "id": "d695566f-9c3b-473e-8755-54dcb928c1d8",
   "metadata": {},
   "outputs": [
    {
     "data": {
      "text/plain": [
       "LEAVES REMAINING\n",
       "11.0    184\n",
       "5.0     182\n",
       "1.0     173\n",
       "2.0     172\n",
       "4.0     171\n",
       "8.0     170\n",
       "15.0    167\n",
       "6.0     163\n",
       "14.0    163\n",
       "12.0    161\n",
       "13.0    160\n",
       "9.0     157\n",
       "10.0    156\n",
       "3.0     155\n",
       "0.0     150\n",
       "7.0     148\n",
       "Name: count, dtype: int64"
      ]
     },
     "execution_count": 47,
     "metadata": {},
     "output_type": "execute_result"
    }
   ],
   "source": [
    "df1['LEAVES REMAINING'].value_counts()"
   ]
  },
  {
   "cell_type": "code",
   "execution_count": 51,
   "id": "6682081c-8ef1-4c01-9dfd-ada41e861728",
   "metadata": {},
   "outputs": [
    {
     "data": {
      "text/plain": [
       "<Axes: ylabel='LEAVES REMAINING'>"
      ]
     },
     "execution_count": 51,
     "metadata": {},
     "output_type": "execute_result"
    },
    {
     "data": {
      "image/png": "[encoded data removed]",
      "text/plain": [
       "<Figure size 640x480 with 1 Axes>"
      ]
     },
     "metadata": {},
     "output_type": "display_data"
    }
   ],
   "source": [
    "df1['LEAVES REMAINING'].value_counts().plot(kind = 'barh')"
   ]
  },
  {
   "cell_type": "code",
   "execution_count": 53,
   "id": "61f28326-9594-4ad0-9fce-a0a8476cff8d",
   "metadata": {},
   "outputs": [
    {
     "data": {
      "text/plain": [
       "RATINGS\n",
       "4.0    671\n",
       "2.0    669\n",
       "3.0    657\n",
       "5.0    640\n",
       "Name: count, dtype: int64"
      ]
     },
     "execution_count": 53,
     "metadata": {},
     "output_type": "execute_result"
    }
   ],
   "source": [
    "df['RATINGS'].value_counts()"
   ]
  },
  {
   "cell_type": "code",
   "execution_count": 55,
   "id": "0d2ce5e8-190a-4854-bf35-f904738e6645",
   "metadata": {},
   "outputs": [
    {
     "name": "stderr",
     "output_type": "stream",
     "text": [
      "C:\\Users\\nr725\\AppData\\Local\\Temp\\ipykernel_1088\\1415298114.py:3: FutureWarning: \n",
      "\n",
      "Passing `palette` without assigning `hue` is deprecated and will be removed in v0.14.0. Assign the `x` variable to `hue` and set `legend=False` for the same effect.\n",
      "\n",
      "  sns.barplot(x=rating_counts.values, y=rating_counts.index, palette=\"viridis\")\n",
      "C:\\Python311\\Lib\\site-packages\\seaborn\\_base.py:948: FutureWarning: When grouping with a length-1 list-like, you will need to pass a length-1 tuple to get_group in a future version of pandas. Pass `(name,)` instead of `name` to silence this warning.\n",
      "  data_subset = grouped_data.get_group(pd_key)\n",
      "C:\\Python311\\Lib\\site-packages\\seaborn\\_base.py:948: FutureWarning: When grouping with a length-1 list-like, you will need to pass a length-1 tuple to get_group in a future version of pandas. Pass `(name,)` instead of `name` to silence this warning.\n",
      "  data_subset = grouped_data.get_group(pd_key)\n",
      "C:\\Python311\\Lib\\site-packages\\seaborn\\_base.py:948: FutureWarning: When grouping with a length-1 list-like, you will need to pass a length-1 tuple to get_group in a future version of pandas. Pass `(name,)` instead of `name` to silence this warning.\n",
      "  data_subset = grouped_data.get_group(pd_key)\n",
      "C:\\Python311\\Lib\\site-packages\\seaborn\\_base.py:948: FutureWarning: When grouping with a length-1 list-like, you will need to pass a length-1 tuple to get_group in a future version of pandas. Pass `(name,)` instead of `name` to silence this warning.\n",
      "  data_subset = grouped_data.get_group(pd_key)\n"
     ]
    },
    {
     "data": {
      "image/png": "[encoded data removed]",
      "text/plain": [
       "<Figure size 500x400 with 1 Axes>"
      ]
     },
     "metadata": {},
     "output_type": "display_data"
    }
   ],
   "source": [
    "rating_counts = df1['RATINGS'].value_counts()\n",
    "plt.figure(figsize=(5, 4))\n",
    "sns.barplot(x=rating_counts.values, y=rating_counts.index, palette=\"viridis\")\n",
    "plt.xlabel(\"Counts\")\n",
    "plt.ylabel(\"Ratings\")\n",
    "plt.title(\"Rating Distribution\")\n",
    "plt.show()\n"
   ]
  },
  {
   "cell_type": "markdown",
   "id": "b4519654-cc91-45cb-9d4e-46a2da74b705",
   "metadata": {},
   "source": [
    "## Feature Engineering"
   ]
  },
  {
   "cell_type": "code",
   "execution_count": 59,
   "id": "078eff62-5168-4952-8526-3a541d84315e",
   "metadata": {},
   "outputs": [],
   "source": [
    "from sklearn.preprocessing import LabelEncoder\n",
    "Lable_Encoder = LabelEncoder()"
   ]
  },
  {
   "cell_type": "code",
   "execution_count": 61,
   "id": "26b94e4e-5bf8-4b33-9466-0e84c4c8f24f",
   "metadata": {},
   "outputs": [],
   "source": [
    "df1['SEX_Encode'] = Lable_Encoder.fit_transform(df1['SEX'])"
   ]
  },
  {
   "cell_type": "code",
   "execution_count": 62,
   "id": "0875cb31-0881-40e6-9bd6-1a2447938f40",
   "metadata": {},
   "outputs": [],
   "source": [
    "df1['DESIGNATION_Encode'] = Label_Encoder.fit_transform(df1['DESIGNATION'])"
   ]
  },
  {
   "cell_type": "code",
   "execution_count": 65,
   "id": "02dea1ca-0a98-4850-aec4-7e47c37bcdbf",
   "metadata": {},
   "outputs": [],
   "source": [
    "df1['UNIT_Encode'] = Lable_Encoder.fit_transform(df1['UNIT'])"
   ]
  },
  {
   "cell_type": "code",
   "execution_count": 66,
   "id": "dcb4b73b-bbf6-4708-97c9-84ade3bdbc5d",
   "metadata": {},
   "outputs": [
    {
     "data": {
      "text/html": [
       "<div>\n",
       "<style scoped>\n",
       "    .dataframe tbody tr th:only-of-type {\n",
       "        vertical-align: middle;\n",
       "    }\n",
       "\n",
       "    .dataframe tbody tr th {\n",
       "        vertical-align: top;\n",
       "    }\n",
       "\n",
       "    .dataframe thead th {\n",
       "        text-align: right;\n",
       "    }\n",
       "</style>\n",
       "<table border=\"1\" class=\"dataframe\">\n",
       "  <thead>\n",
       "    <tr style=\"text-align: right;\">\n",
       "      <th></th>\n",
       "      <th>SEX</th>\n",
       "      <th>DESIGNATION</th>\n",
       "      <th>AGE</th>\n",
       "      <th>SALARY</th>\n",
       "      <th>UNIT</th>\n",
       "      <th>LEAVES USED</th>\n",
       "      <th>LEAVES REMAINING</th>\n",
       "      <th>RATINGS</th>\n",
       "      <th>PAST EXP</th>\n",
       "      <th>SEX_Encode</th>\n",
       "      <th>DESIGNATION_Encode</th>\n",
       "      <th>UNIT_Encode</th>\n",
       "    </tr>\n",
       "  </thead>\n",
       "  <tbody>\n",
       "    <tr>\n",
       "      <th>0</th>\n",
       "      <td>F</td>\n",
       "      <td>Analyst</td>\n",
       "      <td>21.0</td>\n",
       "      <td>44570</td>\n",
       "      <td>Finance</td>\n",
       "      <td>24.0</td>\n",
       "      <td>6.0</td>\n",
       "      <td>2.0</td>\n",
       "      <td>0</td>\n",
       "      <td>0</td>\n",
       "      <td>0</td>\n",
       "      <td>0</td>\n",
       "    </tr>\n",
       "    <tr>\n",
       "      <th>2</th>\n",
       "      <td>F</td>\n",
       "      <td>Analyst</td>\n",
       "      <td>21.0</td>\n",
       "      <td>40955</td>\n",
       "      <td>Finance</td>\n",
       "      <td>23.0</td>\n",
       "      <td>7.0</td>\n",
       "      <td>3.0</td>\n",
       "      <td>0</td>\n",
       "      <td>0</td>\n",
       "      <td>0</td>\n",
       "      <td>0</td>\n",
       "    </tr>\n",
       "    <tr>\n",
       "      <th>3</th>\n",
       "      <td>F</td>\n",
       "      <td>Analyst</td>\n",
       "      <td>22.0</td>\n",
       "      <td>45550</td>\n",
       "      <td>IT</td>\n",
       "      <td>22.0</td>\n",
       "      <td>8.0</td>\n",
       "      <td>3.0</td>\n",
       "      <td>0</td>\n",
       "      <td>0</td>\n",
       "      <td>0</td>\n",
       "      <td>1</td>\n",
       "    </tr>\n",
       "    <tr>\n",
       "      <th>5</th>\n",
       "      <td>F</td>\n",
       "      <td>Analyst</td>\n",
       "      <td>22.0</td>\n",
       "      <td>48736</td>\n",
       "      <td>Marketing</td>\n",
       "      <td>20.0</td>\n",
       "      <td>10.0</td>\n",
       "      <td>4.0</td>\n",
       "      <td>0</td>\n",
       "      <td>0</td>\n",
       "      <td>0</td>\n",
       "      <td>3</td>\n",
       "    </tr>\n",
       "    <tr>\n",
       "      <th>6</th>\n",
       "      <td>M</td>\n",
       "      <td>Analyst</td>\n",
       "      <td>22.0</td>\n",
       "      <td>40339</td>\n",
       "      <td>Marketing</td>\n",
       "      <td>19.0</td>\n",
       "      <td>11.0</td>\n",
       "      <td>5.0</td>\n",
       "      <td>0</td>\n",
       "      <td>1</td>\n",
       "      <td>0</td>\n",
       "      <td>3</td>\n",
       "    </tr>\n",
       "  </tbody>\n",
       "</table>\n",
       "</div>"
      ],
      "text/plain": [
       "  SEX DESIGNATION   AGE  SALARY       UNIT  LEAVES USED  LEAVES REMAINING  \\\n",
       "0   F     Analyst  21.0   44570    Finance         24.0               6.0   \n",
       "2   F     Analyst  21.0   40955    Finance         23.0               7.0   \n",
       "3   F     Analyst  22.0   45550         IT         22.0               8.0   \n",
       "5   F     Analyst  22.0   48736  Marketing         20.0              10.0   \n",
       "6   M     Analyst  22.0   40339  Marketing         19.0              11.0   \n",
       "\n",
       "   RATINGS  PAST EXP  SEX_Encode  DESIGNATION_Encode  UNIT_Encode  \n",
       "0      2.0         0           0                   0            0  \n",
       "2      3.0         0           0                   0            0  \n",
       "3      3.0         0           0                   0            1  \n",
       "5      4.0         0           0                   0            3  \n",
       "6      5.0         0           1                   0            3  "
      ]
     },
     "execution_count": 66,
     "metadata": {},
     "output_type": "execute_result"
    }
   ],
   "source": [
    "df1.head()"
   ]
  },
  {
   "cell_type": "code",
   "execution_count": 67,
   "id": "a8ff22ac-3def-4caf-87f7-ccb755141534",
   "metadata": {},
   "outputs": [],
   "source": [
    "from sklearn.preprocessing import StandardScaler\n",
    "std_scaler = StandardScaler()"
   ]
  },
  {
   "cell_type": "code",
   "execution_count": 69,
   "id": "e74a222e-fe3a-4e53-8bd7-9a7f6e23efbd",
   "metadata": {},
   "outputs": [],
   "source": [
    "df1['AGE_scaled'] = std_scaler.fit_transform(df1[['AGE']])\n",
    "df1['PAST EXP_scaled'] = std_scaler.fit_transform(df1[['PAST EXP']])"
   ]
  },
  {
   "cell_type": "code",
   "execution_count": 70,
   "id": "7e9078b2-fbfb-47ef-9fb7-3b8567dc05ec",
   "metadata": {},
   "outputs": [
    {
     "data": {
      "text/html": [
       "<div>\n",
       "<style scoped>\n",
       "    .dataframe tbody tr th:only-of-type {\n",
       "        vertical-align: middle;\n",
       "    }\n",
       "\n",
       "    .dataframe tbody tr th {\n",
       "        vertical-align: top;\n",
       "    }\n",
       "\n",
       "    .dataframe thead th {\n",
       "        text-align: right;\n",
       "    }\n",
       "</style>\n",
       "<table border=\"1\" class=\"dataframe\">\n",
       "  <thead>\n",
       "    <tr style=\"text-align: right;\">\n",
       "      <th></th>\n",
       "      <th>SEX</th>\n",
       "      <th>DESIGNATION</th>\n",
       "      <th>AGE</th>\n",
       "      <th>SALARY</th>\n",
       "      <th>UNIT</th>\n",
       "      <th>LEAVES USED</th>\n",
       "      <th>LEAVES REMAINING</th>\n",
       "      <th>RATINGS</th>\n",
       "      <th>PAST EXP</th>\n",
       "      <th>SEX_Encode</th>\n",
       "      <th>DESIGNATION_Encode</th>\n",
       "      <th>UNIT_Encode</th>\n",
       "      <th>AGE_scaled</th>\n",
       "      <th>PAST EXP_scaled</th>\n",
       "    </tr>\n",
       "  </thead>\n",
       "  <tbody>\n",
       "    <tr>\n",
       "      <th>0</th>\n",
       "      <td>F</td>\n",
       "      <td>Analyst</td>\n",
       "      <td>21.0</td>\n",
       "      <td>44570</td>\n",
       "      <td>Finance</td>\n",
       "      <td>24.0</td>\n",
       "      <td>6.0</td>\n",
       "      <td>2.0</td>\n",
       "      <td>0</td>\n",
       "      <td>0</td>\n",
       "      <td>0</td>\n",
       "      <td>0</td>\n",
       "      <td>-0.961627</td>\n",
       "      <td>-0.573302</td>\n",
       "    </tr>\n",
       "    <tr>\n",
       "      <th>2</th>\n",
       "      <td>F</td>\n",
       "      <td>Analyst</td>\n",
       "      <td>21.0</td>\n",
       "      <td>40955</td>\n",
       "      <td>Finance</td>\n",
       "      <td>23.0</td>\n",
       "      <td>7.0</td>\n",
       "      <td>3.0</td>\n",
       "      <td>0</td>\n",
       "      <td>0</td>\n",
       "      <td>0</td>\n",
       "      <td>0</td>\n",
       "      <td>-0.961627</td>\n",
       "      <td>-0.573302</td>\n",
       "    </tr>\n",
       "    <tr>\n",
       "      <th>3</th>\n",
       "      <td>F</td>\n",
       "      <td>Analyst</td>\n",
       "      <td>22.0</td>\n",
       "      <td>45550</td>\n",
       "      <td>IT</td>\n",
       "      <td>22.0</td>\n",
       "      <td>8.0</td>\n",
       "      <td>3.0</td>\n",
       "      <td>0</td>\n",
       "      <td>0</td>\n",
       "      <td>0</td>\n",
       "      <td>1</td>\n",
       "      <td>-0.705453</td>\n",
       "      <td>-0.573302</td>\n",
       "    </tr>\n",
       "    <tr>\n",
       "      <th>5</th>\n",
       "      <td>F</td>\n",
       "      <td>Analyst</td>\n",
       "      <td>22.0</td>\n",
       "      <td>48736</td>\n",
       "      <td>Marketing</td>\n",
       "      <td>20.0</td>\n",
       "      <td>10.0</td>\n",
       "      <td>4.0</td>\n",
       "      <td>0</td>\n",
       "      <td>0</td>\n",
       "      <td>0</td>\n",
       "      <td>3</td>\n",
       "      <td>-0.705453</td>\n",
       "      <td>-0.573302</td>\n",
       "    </tr>\n",
       "    <tr>\n",
       "      <th>6</th>\n",
       "      <td>M</td>\n",
       "      <td>Analyst</td>\n",
       "      <td>22.0</td>\n",
       "      <td>40339</td>\n",
       "      <td>Marketing</td>\n",
       "      <td>19.0</td>\n",
       "      <td>11.0</td>\n",
       "      <td>5.0</td>\n",
       "      <td>0</td>\n",
       "      <td>1</td>\n",
       "      <td>0</td>\n",
       "      <td>3</td>\n",
       "      <td>-0.705453</td>\n",
       "      <td>-0.573302</td>\n",
       "    </tr>\n",
       "  </tbody>\n",
       "</table>\n",
       "</div>"
      ],
      "text/plain": [
       "  SEX DESIGNATION   AGE  SALARY       UNIT  LEAVES USED  LEAVES REMAINING  \\\n",
       "0   F     Analyst  21.0   44570    Finance         24.0               6.0   \n",
       "2   F     Analyst  21.0   40955    Finance         23.0               7.0   \n",
       "3   F     Analyst  22.0   45550         IT         22.0               8.0   \n",
       "5   F     Analyst  22.0   48736  Marketing         20.0              10.0   \n",
       "6   M     Analyst  22.0   40339  Marketing         19.0              11.0   \n",
       "\n",
       "   RATINGS  PAST EXP  SEX_Encode  DESIGNATION_Encode  UNIT_Encode  AGE_scaled  \\\n",
       "0      2.0         0           0                   0            0   -0.961627   \n",
       "2      3.0         0           0                   0            0   -0.961627   \n",
       "3      3.0         0           0                   0            1   -0.705453   \n",
       "5      4.0         0           0                   0            3   -0.705453   \n",
       "6      5.0         0           1                   0            3   -0.705453   \n",
       "\n",
       "   PAST EXP_scaled  \n",
       "0        -0.573302  \n",
       "2        -0.573302  \n",
       "3        -0.573302  \n",
       "5        -0.573302  \n",
       "6        -0.573302  "
      ]
     },
     "execution_count": 70,
     "metadata": {},
     "output_type": "execute_result"
    }
   ],
   "source": [
    "df1.head()"
   ]
  },
  {
   "cell_type": "code",
   "execution_count": 72,
   "id": "4a44a154-10db-43e3-ae4d-9697727e087f",
   "metadata": {},
   "outputs": [],
   "source": [
    "x = df1[['AGE_scaled','SEX_Encode','DESIGNATION_Encode',\n",
    "         'PAST EXP_scaled', 'UNIT_Encode']]\n",
    "y = df1['SALARY']"
   ]
  },
  {
   "cell_type": "code",
   "execution_count": 73,
   "id": "95481799-8fd4-41fa-90c9-3a803f011b58",
   "metadata": {},
   "outputs": [
    {
     "data": {
      "text/html": [
       "<div>\n",
       "<style scoped>\n",
       "    .dataframe tbody tr th:only-of-type {\n",
       "        vertical-align: middle;\n",
       "    }\n",
       "\n",
       "    .dataframe tbody tr th {\n",
       "        vertical-align: top;\n",
       "    }\n",
       "\n",
       "    .dataframe thead th {\n",
       "        text-align: right;\n",
       "    }\n",
       "</style>\n",
       "<table border=\"1\" class=\"dataframe\">\n",
       "  <thead>\n",
       "    <tr style=\"text-align: right;\">\n",
       "      <th></th>\n",
       "      <th>AGE_scaled</th>\n",
       "      <th>SEX_Encode</th>\n",
       "      <th>DESIGNATION_Encode</th>\n",
       "      <th>PAST EXP_scaled</th>\n",
       "      <th>UNIT_Encode</th>\n",
       "    </tr>\n",
       "  </thead>\n",
       "  <tbody>\n",
       "    <tr>\n",
       "      <th>0</th>\n",
       "      <td>-0.961627</td>\n",
       "      <td>0</td>\n",
       "      <td>0</td>\n",
       "      <td>-0.573302</td>\n",
       "      <td>0</td>\n",
       "    </tr>\n",
       "    <tr>\n",
       "      <th>2</th>\n",
       "      <td>-0.961627</td>\n",
       "      <td>0</td>\n",
       "      <td>0</td>\n",
       "      <td>-0.573302</td>\n",
       "      <td>0</td>\n",
       "    </tr>\n",
       "    <tr>\n",
       "      <th>3</th>\n",
       "      <td>-0.705453</td>\n",
       "      <td>0</td>\n",
       "      <td>0</td>\n",
       "      <td>-0.573302</td>\n",
       "      <td>1</td>\n",
       "    </tr>\n",
       "    <tr>\n",
       "      <th>5</th>\n",
       "      <td>-0.705453</td>\n",
       "      <td>0</td>\n",
       "      <td>0</td>\n",
       "      <td>-0.573302</td>\n",
       "      <td>3</td>\n",
       "    </tr>\n",
       "    <tr>\n",
       "      <th>6</th>\n",
       "      <td>-0.705453</td>\n",
       "      <td>1</td>\n",
       "      <td>0</td>\n",
       "      <td>-0.573302</td>\n",
       "      <td>3</td>\n",
       "    </tr>\n",
       "  </tbody>\n",
       "</table>\n",
       "</div>"
      ],
      "text/plain": [
       "   AGE_scaled  SEX_Encode  DESIGNATION_Encode  PAST EXP_scaled  UNIT_Encode\n",
       "0   -0.961627           0                   0        -0.573302            0\n",
       "2   -0.961627           0                   0        -0.573302            0\n",
       "3   -0.705453           0                   0        -0.573302            1\n",
       "5   -0.705453           0                   0        -0.573302            3\n",
       "6   -0.705453           1                   0        -0.573302            3"
      ]
     },
     "execution_count": 73,
     "metadata": {},
     "output_type": "execute_result"
    }
   ],
   "source": [
    "x.head()"
   ]
  },
  {
   "cell_type": "code",
   "execution_count": 74,
   "id": "22130e7b-2d28-4b27-9f7b-03dcbcea2176",
   "metadata": {},
   "outputs": [
    {
     "data": {
      "text/plain": [
       "0    44570\n",
       "2    40955\n",
       "3    45550\n",
       "5    48736\n",
       "6    40339\n",
       "Name: SALARY, dtype: int64"
      ]
     },
     "execution_count": 74,
     "metadata": {},
     "output_type": "execute_result"
    }
   ],
   "source": [
    "y.head()"
   ]
  },
  {
   "cell_type": "markdown",
   "id": "430470eb-0ac8-4570-abb0-d9de0a22eccd",
   "metadata": {},
   "source": [
    "## Splitting the data into traning and testing"
   ]
  },
  {
   "cell_type": "code",
   "execution_count": 75,
   "id": "e736abba-40b6-4094-b446-315f4c868d7e",
   "metadata": {},
   "outputs": [],
   "source": [
    "from sklearn.model_selection import train_test_split"
   ]
  },
  {
   "cell_type": "code",
   "execution_count": 77,
   "id": "464bfce2-12d5-4477-86eb-717325019c09",
   "metadata": {},
   "outputs": [],
   "source": [
    "x_train, x_test, y_train, y_test = train_test_split(x, y,\n",
    "    test_size = 0.2, random_state = 42)"
   ]
  },
  {
   "cell_type": "code",
   "execution_count": 78,
   "id": "63bbe119-3773-4018-828c-8cb63f60f8e3",
   "metadata": {},
   "outputs": [
    {
     "data": {
      "text/plain": [
       "((2105, 5), (2105,))"
      ]
     },
     "execution_count": 78,
     "metadata": {},
     "output_type": "execute_result"
    }
   ],
   "source": [
    "x_train.shape, y_train.shape"
   ]
  },
  {
   "cell_type": "code",
   "execution_count": 79,
   "id": "00fd6e8d-c74a-4beb-bc5f-f6443053fa44",
   "metadata": {},
   "outputs": [
    {
     "data": {
      "text/plain": [
       "((527, 5), (527,))"
      ]
     },
     "execution_count": 79,
     "metadata": {},
     "output_type": "execute_result"
    }
   ],
   "source": [
    "x_test.shape, y_test.shape"
   ]
  },
  {
   "cell_type": "code",
   "execution_count": 80,
   "id": "08d4c698-6a96-4f9c-9f4d-2f773fddbbdf",
   "metadata": {},
   "outputs": [
    {
     "data": {
      "text/html": [
       "<div>\n",
       "<style scoped>\n",
       "    .dataframe tbody tr th:only-of-type {\n",
       "        vertical-align: middle;\n",
       "    }\n",
       "\n",
       "    .dataframe tbody tr th {\n",
       "        vertical-align: top;\n",
       "    }\n",
       "\n",
       "    .dataframe thead th {\n",
       "        text-align: right;\n",
       "    }\n",
       "</style>\n",
       "<table border=\"1\" class=\"dataframe\">\n",
       "  <thead>\n",
       "    <tr style=\"text-align: right;\">\n",
       "      <th></th>\n",
       "      <th>AGE_scaled</th>\n",
       "      <th>SEX_Encode</th>\n",
       "      <th>DESIGNATION_Encode</th>\n",
       "      <th>PAST EXP_scaled</th>\n",
       "      <th>UNIT_Encode</th>\n",
       "    </tr>\n",
       "  </thead>\n",
       "  <tbody>\n",
       "    <tr>\n",
       "      <th>1193</th>\n",
       "      <td>-0.705453</td>\n",
       "      <td>1</td>\n",
       "      <td>0</td>\n",
       "      <td>-0.573302</td>\n",
       "      <td>3</td>\n",
       "    </tr>\n",
       "    <tr>\n",
       "      <th>2541</th>\n",
       "      <td>-0.193104</td>\n",
       "      <td>1</td>\n",
       "      <td>0</td>\n",
       "      <td>-0.206344</td>\n",
       "      <td>2</td>\n",
       "    </tr>\n",
       "    <tr>\n",
       "      <th>571</th>\n",
       "      <td>-0.449279</td>\n",
       "      <td>0</td>\n",
       "      <td>0</td>\n",
       "      <td>-0.573302</td>\n",
       "      <td>3</td>\n",
       "    </tr>\n",
       "    <tr>\n",
       "      <th>489</th>\n",
       "      <td>0.063070</td>\n",
       "      <td>0</td>\n",
       "      <td>0</td>\n",
       "      <td>0.160614</td>\n",
       "      <td>1</td>\n",
       "    </tr>\n",
       "    <tr>\n",
       "      <th>1849</th>\n",
       "      <td>0.063070</td>\n",
       "      <td>1</td>\n",
       "      <td>0</td>\n",
       "      <td>-0.206344</td>\n",
       "      <td>4</td>\n",
       "    </tr>\n",
       "  </tbody>\n",
       "</table>\n",
       "</div>"
      ],
      "text/plain": [
       "      AGE_scaled  SEX_Encode  DESIGNATION_Encode  PAST EXP_scaled  UNIT_Encode\n",
       "1193   -0.705453           1                   0        -0.573302            3\n",
       "2541   -0.193104           1                   0        -0.206344            2\n",
       "571    -0.449279           0                   0        -0.573302            3\n",
       "489     0.063070           0                   0         0.160614            1\n",
       "1849    0.063070           1                   0        -0.206344            4"
      ]
     },
     "execution_count": 80,
     "metadata": {},
     "output_type": "execute_result"
    }
   ],
   "source": [
    "x_train.head()"
   ]
  },
  {
   "cell_type": "code",
   "execution_count": 81,
   "id": "d8f5c96f-6648-4b5d-babb-dde2cdec8d96",
   "metadata": {},
   "outputs": [
    {
     "data": {
      "text/html": [
       "<div>\n",
       "<style scoped>\n",
       "    .dataframe tbody tr th:only-of-type {\n",
       "        vertical-align: middle;\n",
       "    }\n",
       "\n",
       "    .dataframe tbody tr th {\n",
       "        vertical-align: top;\n",
       "    }\n",
       "\n",
       "    .dataframe thead th {\n",
       "        text-align: right;\n",
       "    }\n",
       "</style>\n",
       "<table border=\"1\" class=\"dataframe\">\n",
       "  <thead>\n",
       "    <tr style=\"text-align: right;\">\n",
       "      <th></th>\n",
       "      <th>AGE_scaled</th>\n",
       "      <th>SEX_Encode</th>\n",
       "      <th>DESIGNATION_Encode</th>\n",
       "      <th>PAST EXP_scaled</th>\n",
       "      <th>UNIT_Encode</th>\n",
       "    </tr>\n",
       "  </thead>\n",
       "  <tbody>\n",
       "    <tr>\n",
       "      <th>228</th>\n",
       "      <td>4.674210</td>\n",
       "      <td>1</td>\n",
       "      <td>2</td>\n",
       "      <td>5.664985</td>\n",
       "      <td>1</td>\n",
       "    </tr>\n",
       "    <tr>\n",
       "      <th>325</th>\n",
       "      <td>5.186559</td>\n",
       "      <td>0</td>\n",
       "      <td>2</td>\n",
       "      <td>6.398901</td>\n",
       "      <td>0</td>\n",
       "    </tr>\n",
       "    <tr>\n",
       "      <th>788</th>\n",
       "      <td>-0.449279</td>\n",
       "      <td>0</td>\n",
       "      <td>0</td>\n",
       "      <td>-0.573302</td>\n",
       "      <td>1</td>\n",
       "    </tr>\n",
       "    <tr>\n",
       "      <th>1453</th>\n",
       "      <td>-0.449279</td>\n",
       "      <td>0</td>\n",
       "      <td>0</td>\n",
       "      <td>-0.573302</td>\n",
       "      <td>0</td>\n",
       "    </tr>\n",
       "    <tr>\n",
       "      <th>1227</th>\n",
       "      <td>-0.193104</td>\n",
       "      <td>1</td>\n",
       "      <td>0</td>\n",
       "      <td>-0.573302</td>\n",
       "      <td>0</td>\n",
       "    </tr>\n",
       "  </tbody>\n",
       "</table>\n",
       "</div>"
      ],
      "text/plain": [
       "      AGE_scaled  SEX_Encode  DESIGNATION_Encode  PAST EXP_scaled  UNIT_Encode\n",
       "228     4.674210           1                   2         5.664985            1\n",
       "325     5.186559           0                   2         6.398901            0\n",
       "788    -0.449279           0                   0        -0.573302            1\n",
       "1453   -0.449279           0                   0        -0.573302            0\n",
       "1227   -0.193104           1                   0        -0.573302            0"
      ]
     },
     "execution_count": 81,
     "metadata": {},
     "output_type": "execute_result"
    }
   ],
   "source": [
    "x_test.head()"
   ]
  },
  {
   "cell_type": "markdown",
   "id": "a1ae8125-d337-4bff-8e0d-3013b58f610c",
   "metadata": {},
   "source": [
    "## model development"
   ]
  },
  {
   "cell_type": "code",
   "execution_count": 82,
   "id": "f34d9764-3935-4471-b542-8967436699e7",
   "metadata": {},
   "outputs": [],
   "source": [
    "from sklearn.linear_model import LinearRegression"
   ]
  },
  {
   "cell_type": "code",
   "execution_count": 86,
   "id": "4eed6b7d-7128-43c1-ada2-10cb4cb84ded",
   "metadata": {},
   "outputs": [],
   "source": [
    "Linear_regeression_model = LinearRegression()"
   ]
  },
  {
   "cell_type": "markdown",
   "id": "98f74a4a-9021-4bd7-9f76-0f9f2ebbb4cb",
   "metadata": {},
   "source": [
    "## model traning"
   ]
  },
  {
   "cell_type": "code",
   "execution_count": 87,
   "id": "5e49e41b-04ab-46dc-a281-3ddde884eabb",
   "metadata": {},
   "outputs": [
    {
     "data": {
      "text/html": [
       "<style>#sk-container-id-1 {\n",
       "  /* Definition of color scheme common for light and dark mode */\n",
       "  --sklearn-color-text: black;\n",
       "  --sklearn-color-line: gray;\n",
       "  /* Definition of color scheme for unfitted estimators */\n",
       "  --sklearn-color-unfitted-level-0: #fff5e6;\n",
       "  --sklearn-color-unfitted-level-1: #f6e4d2;\n",
       "  --sklearn-color-unfitted-level-2: #ffe0b3;\n",
       "  --sklearn-color-unfitted-level-3: chocolate;\n",
       "  /* Definition of color scheme for fitted estimators */\n",
       "  --sklearn-color-fitted-level-0: #f0f8ff;\n",
       "  --sklearn-color-fitted-level-1: #d4ebff;\n",
       "  --sklearn-color-fitted-level-2: #b3dbfd;\n",
       "  --sklearn-color-fitted-level-3: cornflowerblue;\n",
       "\n",
       "  /* Specific color for light theme */\n",
       "  --sklearn-color-text-on-default-background: var(--sg-text-color, var(--theme-code-foreground, var(--jp-content-font-color1, black)));\n",
       "  --sklearn-color-background: var(--sg-background-color, var(--theme-background, var(--jp-layout-color0, white)));\n",
       "  --sklearn-color-border-box: var(--sg-text-color, var(--theme-code-foreground, var(--jp-content-font-color1, black)));\n",
       "  --sklearn-color-icon: #696969;\n",
       "\n",
       "  @media (prefers-color-scheme: dark) {\n",
       "    /* Redefinition of color scheme for dark theme */\n",
       "    --sklearn-color-text-on-default-background: var(--sg-text-color, var(--theme-code-foreground, var(--jp-content-font-color1, white)));\n",
       "    --sklearn-color-background: var(--sg-background-color, var(--theme-background, var(--jp-layout-color0, #111)));\n",
       "    --sklearn-color-border-box: var(--sg-text-color, var(--theme-code-foreground, var(--jp-content-font-color1, white)));\n",
       "    --sklearn-color-icon: #878787;\n",
       "  }\n",
       "}\n",
       "\n",
       "#sk-container-id-1 {\n",
       "  color: var(--sklearn-color-text);\n",
       "}\n",
       "\n",
       "#sk-container-id-1 pre {\n",
       "  padding: 0;\n",
       "}\n",
       "\n",
       "#sk-container-id-1 input.sk-hidden--visually {\n",
       "  border: 0;\n",
       "  clip: rect(1px 1px 1px 1px);\n",
       "  clip: rect(1px, 1px, 1px, 1px);\n",
       "  height: 1px;\n",
       "  margin: -1px;\n",
       "  overflow: hidden;\n",
       "  padding: 0;\n",
       "  position: absolute;\n",
       "  width: 1px;\n",
       "}\n",
       "\n",
       "#sk-container-id-1 div.sk-dashed-wrapped {\n",
       "  border: 1px dashed var(--sklearn-color-line);\n",
       "  margin: 0 0.4em 0.5em 0.4em;\n",
       "  box-sizing: border-box;\n",
       "  padding-bottom: 0.4em;\n",
       "  background-color: var(--sklearn-color-background);\n",
       "}\n",
       "\n",
       "#sk-container-id-1 div.sk-container {\n",
       "  /* jupyter's `normalize.less` sets `[hidden] { display: none; }`\n",
       "     but bootstrap.min.css set `[hidden] { display: none !important; }`\n",
       "     so we also need the `!important` here to be able to override the\n",
       "     default hidden behavior on the sphinx rendered scikit-learn.org.\n",
       "     See: https://github.com/scikit-learn/scikit-learn/issues/21755 */\n",
       "  display: inline-block !important;\n",
       "  position: relative;\n",
       "}\n",
       "\n",
       "#sk-container-id-1 div.sk-text-repr-fallback {\n",
       "  display: none;\n",
       "}\n",
       "\n",
       "div.sk-parallel-item,\n",
       "div.sk-serial,\n",
       "div.sk-item {\n",
       "  /* draw centered vertical line to link estimators */\n",
       "  background-image: linear-gradient(var(--sklearn-color-text-on-default-background), var(--sklearn-color-text-on-default-background));\n",
       "  background-size: 2px 100%;\n",
       "  background-repeat: no-repeat;\n",
       "  background-position: center center;\n",
       "}\n",
       "\n",
       "/* Parallel-specific style estimator block */\n",
       "\n",
       "#sk-container-id-1 div.sk-parallel-item::after {\n",
       "  content: \"\";\n",
       "  width: 100%;\n",
       "  border-bottom: 2px solid var(--sklearn-color-text-on-default-background);\n",
       "  flex-grow: 1;\n",
       "}\n",
       "\n",
       "#sk-container-id-1 div.sk-parallel {\n",
       "  display: flex;\n",
       "  align-items: stretch;\n",
       "  justify-content: center;\n",
       "  background-color: var(--sklearn-color-background);\n",
       "  position: relative;\n",
       "}\n",
       "\n",
       "#sk-container-id-1 div.sk-parallel-item {\n",
       "  display: flex;\n",
       "  flex-direction: column;\n",
       "}\n",
       "\n",
       "#sk-container-id-1 div.sk-parallel-item:first-child::after {\n",
       "  align-self: flex-end;\n",
       "  width: 50%;\n",
       "}\n",
       "\n",
       "#sk-container-id-1 div.sk-parallel-item:last-child::after {\n",
       "  align-self: flex-start;\n",
       "  width: 50%;\n",
       "}\n",
       "\n",
       "#sk-container-id-1 div.sk-parallel-item:only-child::after {\n",
       "  width: 0;\n",
       "}\n",
       "\n",
       "/* Serial-specific style estimator block */\n",
       "\n",
       "#sk-container-id-1 div.sk-serial {\n",
       "  display: flex;\n",
       "  flex-direction: column;\n",
       "  align-items: center;\n",
       "  background-color: var(--sklearn-color-background);\n",
       "  padding-right: 1em;\n",
       "  padding-left: 1em;\n",
       "}\n",
       "\n",
       "\n",
       "/* Toggleable style: style used for estimator/Pipeline/ColumnTransformer box that is\n",
       "clickable and can be expanded/collapsed.\n",
       "- Pipeline and ColumnTransformer use this feature and define the default style\n",
       "- Estimators will overwrite some part of the style using the `sk-estimator` class\n",
       "*/\n",
       "\n",
       "/* Pipeline and ColumnTransformer style (default) */\n",
       "\n",
       "#sk-container-id-1 div.sk-toggleable {\n",
       "  /* Default theme specific background. It is overwritten whether we have a\n",
       "  specific estimator or a Pipeline/ColumnTransformer */\n",
       "  background-color: var(--sklearn-color-background);\n",
       "}\n",
       "\n",
       "/* Toggleable label */\n",
       "#sk-container-id-1 label.sk-toggleable__label {\n",
       "  cursor: pointer;\n",
       "  display: block;\n",
       "  width: 100%;\n",
       "  margin-bottom: 0;\n",
       "  padding: 0.5em;\n",
       "  box-sizing: border-box;\n",
       "  text-align: center;\n",
       "}\n",
       "\n",
       "#sk-container-id-1 label.sk-toggleable__label-arrow:before {\n",
       "  /* Arrow on the left of the label */\n",
       "  content: \"▸\";\n",
       "  float: left;\n",
       "  margin-right: 0.25em;\n",
       "  color: var(--sklearn-color-icon);\n",
       "}\n",
       "\n",
       "#sk-container-id-1 label.sk-toggleable__label-arrow:hover:before {\n",
       "  color: var(--sklearn-color-text);\n",
       "}\n",
       "\n",
       "/* Toggleable content - dropdown */\n",
       "\n",
       "#sk-container-id-1 div.sk-toggleable__content {\n",
       "  max-height: 0;\n",
       "  max-width: 0;\n",
       "  overflow: hidden;\n",
       "  text-align: left;\n",
       "  /* unfitted */\n",
       "  background-color: var(--sklearn-color-unfitted-level-0);\n",
       "}\n",
       "\n",
       "#sk-container-id-1 div.sk-toggleable__content.fitted {\n",
       "  /* fitted */\n",
       "  background-color: var(--sklearn-color-fitted-level-0);\n",
       "}\n",
       "\n",
       "#sk-container-id-1 div.sk-toggleable__content pre {\n",
       "  margin: 0.2em;\n",
       "  border-radius: 0.25em;\n",
       "  color: var(--sklearn-color-text);\n",
       "  /* unfitted */\n",
       "  background-color: var(--sklearn-color-unfitted-level-0);\n",
       "}\n",
       "\n",
       "#sk-container-id-1 div.sk-toggleable__content.fitted pre {\n",
       "  /* unfitted */\n",
       "  background-color: var(--sklearn-color-fitted-level-0);\n",
       "}\n",
       "\n",
       "#sk-container-id-1 input.sk-toggleable__control:checked~div.sk-toggleable__content {\n",
       "  /* Expand drop-down */\n",
       "  max-height: 200px;\n",
       "  max-width: 100%;\n",
       "  overflow: auto;\n",
       "}\n",
       "\n",
       "#sk-container-id-1 input.sk-toggleable__control:checked~label.sk-toggleable__label-arrow:before {\n",
       "  content: \"▾\";\n",
       "}\n",
       "\n",
       "/* Pipeline/ColumnTransformer-specific style */\n",
       "\n",
       "#sk-container-id-1 div.sk-label input.sk-toggleable__control:checked~label.sk-toggleable__label {\n",
       "  color: var(--sklearn-color-text);\n",
       "  background-color: var(--sklearn-color-unfitted-level-2);\n",
       "}\n",
       "\n",
       "#sk-container-id-1 div.sk-label.fitted input.sk-toggleable__control:checked~label.sk-toggleable__label {\n",
       "  background-color: var(--sklearn-color-fitted-level-2);\n",
       "}\n",
       "\n",
       "/* Estimator-specific style */\n",
       "\n",
       "/* Colorize estimator box */\n",
       "#sk-container-id-1 div.sk-estimator input.sk-toggleable__control:checked~label.sk-toggleable__label {\n",
       "  /* unfitted */\n",
       "  background-color: var(--sklearn-color-unfitted-level-2);\n",
       "}\n",
       "\n",
       "#sk-container-id-1 div.sk-estimator.fitted input.sk-toggleable__control:checked~label.sk-toggleable__label {\n",
       "  /* fitted */\n",
       "  background-color: var(--sklearn-color-fitted-level-2);\n",
       "}\n",
       "\n",
       "#sk-container-id-1 div.sk-label label.sk-toggleable__label,\n",
       "#sk-container-id-1 div.sk-label label {\n",
       "  /* The background is the default theme color */\n",
       "  color: var(--sklearn-color-text-on-default-background);\n",
       "}\n",
       "\n",
       "/* On hover, darken the color of the background */\n",
       "#sk-container-id-1 div.sk-label:hover label.sk-toggleable__label {\n",
       "  color: var(--sklearn-color-text);\n",
       "  background-color: var(--sklearn-color-unfitted-level-2);\n",
       "}\n",
       "\n",
       "/* Label box, darken color on hover, fitted */\n",
       "#sk-container-id-1 div.sk-label.fitted:hover label.sk-toggleable__label.fitted {\n",
       "  color: var(--sklearn-color-text);\n",
       "  background-color: var(--sklearn-color-fitted-level-2);\n",
       "}\n",
       "\n",
       "/* Estimator label */\n",
       "\n",
       "#sk-container-id-1 div.sk-label label {\n",
       "  font-family: monospace;\n",
       "  font-weight: bold;\n",
       "  display: inline-block;\n",
       "  line-height: 1.2em;\n",
       "}\n",
       "\n",
       "#sk-container-id-1 div.sk-label-container {\n",
       "  text-align: center;\n",
       "}\n",
       "\n",
       "/* Estimator-specific */\n",
       "#sk-container-id-1 div.sk-estimator {\n",
       "  font-family: monospace;\n",
       "  border: 1px dotted var(--sklearn-color-border-box);\n",
       "  border-radius: 0.25em;\n",
       "  box-sizing: border-box;\n",
       "  margin-bottom: 0.5em;\n",
       "  /* unfitted */\n",
       "  background-color: var(--sklearn-color-unfitted-level-0);\n",
       "}\n",
       "\n",
       "#sk-container-id-1 div.sk-estimator.fitted {\n",
       "  /* fitted */\n",
       "  background-color: var(--sklearn-color-fitted-level-0);\n",
       "}\n",
       "\n",
       "/* on hover */\n",
       "#sk-container-id-1 div.sk-estimator:hover {\n",
       "  /* unfitted */\n",
       "  background-color: var(--sklearn-color-unfitted-level-2);\n",
       "}\n",
       "\n",
       "#sk-container-id-1 div.sk-estimator.fitted:hover {\n",
       "  /* fitted */\n",
       "  background-color: var(--sklearn-color-fitted-level-2);\n",
       "}\n",
       "\n",
       "/* Specification for estimator info (e.g. \"i\" and \"?\") */\n",
       "\n",
       "/* Common style for \"i\" and \"?\" */\n",
       "\n",
       ".sk-estimator-doc-link,\n",
       "a:link.sk-estimator-doc-link,\n",
       "a:visited.sk-estimator-doc-link {\n",
       "  float: right;\n",
       "  font-size: smaller;\n",
       "  line-height: 1em;\n",
       "  font-family: monospace;\n",
       "  background-color: var(--sklearn-color-background);\n",
       "  border-radius: 1em;\n",
       "  height: 1em;\n",
       "  width: 1em;\n",
       "  text-decoration: none !important;\n",
       "  margin-left: 1ex;\n",
       "  /* unfitted */\n",
       "  border: var(--sklearn-color-unfitted-level-1) 1pt solid;\n",
       "  color: var(--sklearn-color-unfitted-level-1);\n",
       "}\n",
       "\n",
       ".sk-estimator-doc-link.fitted,\n",
       "a:link.sk-estimator-doc-link.fitted,\n",
       "a:visited.sk-estimator-doc-link.fitted {\n",
       "  /* fitted */\n",
       "  border: var(--sklearn-color-fitted-level-1) 1pt solid;\n",
       "  color: var(--sklearn-color-fitted-level-1);\n",
       "}\n",
       "\n",
       "/* On hover */\n",
       "div.sk-estimator:hover .sk-estimator-doc-link:hover,\n",
       ".sk-estimator-doc-link:hover,\n",
       "div.sk-label-container:hover .sk-estimator-doc-link:hover,\n",
       ".sk-estimator-doc-link:hover {\n",
       "  /* unfitted */\n",
       "  background-color: var(--sklearn-color-unfitted-level-3);\n",
       "  color: var(--sklearn-color-background);\n",
       "  text-decoration: none;\n",
       "}\n",
       "\n",
       "div.sk-estimator.fitted:hover .sk-estimator-doc-link.fitted:hover,\n",
       ".sk-estimator-doc-link.fitted:hover,\n",
       "div.sk-label-container:hover .sk-estimator-doc-link.fitted:hover,\n",
       ".sk-estimator-doc-link.fitted:hover {\n",
       "  /* fitted */\n",
       "  background-color: var(--sklearn-color-fitted-level-3);\n",
       "  color: var(--sklearn-color-background);\n",
       "  text-decoration: none;\n",
       "}\n",
       "\n",
       "/* Span, style for the box shown on hovering the info icon */\n",
       ".sk-estimator-doc-link span {\n",
       "  display: none;\n",
       "  z-index: 9999;\n",
       "  position: relative;\n",
       "  font-weight: normal;\n",
       "  right: .2ex;\n",
       "  padding: .5ex;\n",
       "  margin: .5ex;\n",
       "  width: min-content;\n",
       "  min-width: 20ex;\n",
       "  max-width: 50ex;\n",
       "  color: var(--sklearn-color-text);\n",
       "  box-shadow: 2pt 2pt 4pt #999;\n",
       "  /* unfitted */\n",
       "  background: var(--sklearn-color-unfitted-level-0);\n",
       "  border: .5pt solid var(--sklearn-color-unfitted-level-3);\n",
       "}\n",
       "\n",
       ".sk-estimator-doc-link.fitted span {\n",
       "  /* fitted */\n",
       "  background: var(--sklearn-color-fitted-level-0);\n",
       "  border: var(--sklearn-color-fitted-level-3);\n",
       "}\n",
       "\n",
       ".sk-estimator-doc-link:hover span {\n",
       "  display: block;\n",
       "}\n",
       "\n",
       "/* \"?\"-specific style due to the `<a>` HTML tag */\n",
       "\n",
       "#sk-container-id-1 a.estimator_doc_link {\n",
       "  float: right;\n",
       "  font-size: 1rem;\n",
       "  line-height: 1em;\n",
       "  font-family: monospace;\n",
       "  background-color: var(--sklearn-color-background);\n",
       "  border-radius: 1rem;\n",
       "  height: 1rem;\n",
       "  width: 1rem;\n",
       "  text-decoration: none;\n",
       "  /* unfitted */\n",
       "  color: var(--sklearn-color-unfitted-level-1);\n",
       "  border: var(--sklearn-color-unfitted-level-1) 1pt solid;\n",
       "}\n",
       "\n",
       "#sk-container-id-1 a.estimator_doc_link.fitted {\n",
       "  /* fitted */\n",
       "  border: var(--sklearn-color-fitted-level-1) 1pt solid;\n",
       "  color: var(--sklearn-color-fitted-level-1);\n",
       "}\n",
       "\n",
       "/* On hover */\n",
       "#sk-container-id-1 a.estimator_doc_link:hover {\n",
       "  /* unfitted */\n",
       "  background-color: var(--sklearn-color-unfitted-level-3);\n",
       "  color: var(--sklearn-color-background);\n",
       "  text-decoration: none;\n",
       "}\n",
       "\n",
       "#sk-container-id-1 a.estimator_doc_link.fitted:hover {\n",
       "  /* fitted */\n",
       "  background-color: var(--sklearn-color-fitted-level-3);\n",
       "}\n",
       "</style><div id=\"sk-container-id-1\" class=\"sk-top-container\"><div class=\"sk-text-repr-fallback\"><pre>LinearRegression()</pre><b>In a Jupyter environment, please rerun this cell to show the HTML representation or trust the notebook. <br />On GitHub, the HTML representation is unable to render, please try loading this page with nbviewer.org.</b></div><div class=\"sk-container\" hidden><div class=\"sk-item\"><div class=\"sk-estimator fitted sk-toggleable\"><input class=\"sk-toggleable__control sk-hidden--visually\" id=\"sk-estimator-id-1\" type=\"checkbox\" checked><label for=\"sk-estimator-id-1\" class=\"sk-toggleable__label fitted sk-toggleable__label-arrow fitted\">&nbsp;&nbsp;LinearRegression<a class=\"sk-estimator-doc-link fitted\" rel=\"noreferrer\" target=\"_blank\" href=\"https://scikit-learn.org/1.4/modules/generated/sklearn.linear_model.LinearRegression.html\">?<span>Documentation for LinearRegression</span></a><span class=\"sk-estimator-doc-link fitted\">i<span>Fitted</span></span></label><div class=\"sk-toggleable__content fitted\"><pre>LinearRegression()</pre></div> </div></div></div></div>"
      ],
      "text/plain": [
       "LinearRegression()"
      ]
     },
     "execution_count": 87,
     "metadata": {},
     "output_type": "execute_result"
    }
   ],
   "source": [
    "Linear_regeression_model.fit(x_train, y_train)"
   ]
  },
  {
   "cell_type": "code",
   "execution_count": 88,
   "id": "49fbbded-3e98-49bb-b3a1-74a1f27d7993",
   "metadata": {},
   "outputs": [],
   "source": [
    "## Model prediction"
   ]
  },
  {
   "cell_type": "code",
   "execution_count": 89,
   "id": "df22af22-2216-4c2c-b1d6-90b17037d831",
   "metadata": {},
   "outputs": [
    {
     "data": {
      "text/plain": [
       "array([224674.10306688, 245268.22532063,  42177.64379054,  42085.76731679,\n",
       "        46743.66330065,  51941.28646294, 153094.44222796,  55280.86522857,\n",
       "        30820.05447868,  62256.18797781,  30911.93095243,  51501.40656843,\n",
       "        35753.57988377,  61005.59812137,  35845.45635751,  48086.12963083,\n",
       "        45792.8519774 ,  56255.82566378,  89788.91888228,  56163.94919003,\n",
       "       106641.88051891,  45700.97550366,  31095.68389992,  61796.80560909,\n",
       "        65503.8902697 ,  36544.78737148,  36820.41679272,  51150.07897523,\n",
       "        60290.08880563,  30820.05447868,  72898.26797392,  30820.05447868,\n",
       "        35477.95046254,  35937.33283126,  56526.80844726,  57574.142882  ,\n",
       "        35569.82693628,  52308.79235792,  36452.91089774,  51150.07897523,\n",
       "        42177.64379054,  30304.4764122 ,  46835.53977439,  31003.80742617,\n",
       "       172529.85109902, 172897.35699399,  70421.23737301,  30304.4764122 ,\n",
       "        89605.16593479,  35937.33283126,  31187.56037366,  41110.80688159,\n",
       "        66295.09775741,  36728.54031897, 215186.08981571,  30911.93095243,\n",
       "        35569.82693628,  35845.45635751,  50434.56965948,  30820.05447868,\n",
       "        35569.82693628, 107516.33243752,  31095.68389992,  65228.26084846,\n",
       "        36636.66384523,  78485.51677243,  51941.28646294,  51333.83192272,\n",
       "        41478.31277657,  50434.56965948,  51058.20250148,  78736.99708171,\n",
       "        69894.1276425 ,  35661.70341002,  61281.22754261, 145691.80457076,\n",
       "        52033.16293668,  51501.40656843,  51425.70839646,  35477.95046254,\n",
       "       106366.25109767,  50526.44613322,  47019.29272188,  63134.62530151,\n",
       "        61005.59812137,  93973.89233763,  46492.18299137,  65412.01379595,\n",
       "        74460.14715261,  47902.37668334,  52125.03941043, 172278.37078974,\n",
       "       107077.11377567,  30120.72346471, 149662.98698858,  42361.39673803,\n",
       "        36452.91089774,  41202.68335534,  29936.97051722,  47718.62373585,\n",
       "        51593.28304217,  61097.47459512,  42085.76731679, 124406.98334589,\n",
       "        35477.95046254,  31095.68389992,  41110.80688159,  30911.93095243,\n",
       "        73471.64655763,  30304.4764122 ,  91772.49115796,  30120.72346471,\n",
       "        41202.68335534,  42361.39673803,  57849.77230323,  81343.5934281 ,\n",
       "        41110.80688159,  45700.97550366,  51409.53009468,  45425.34608243,\n",
       "        36912.29326646,  61097.47459512,  51333.83192272,  35477.95046254,\n",
       "        67333.13891665, 104080.89179305,  42545.14968552,  29845.09404348,\n",
       "        60821.84517389,  46835.53977439,  42453.27321177,  35477.95046254,\n",
       "        55280.86522857,  46767.81241261,  54749.10886031,  35753.57988377,\n",
       "        36544.78737148,  55280.86522857,  35845.45635751,  65487.71196792,\n",
       "        56874.81186803,  41570.18925031,  35569.82693628,  89880.79535602,\n",
       "        36544.78737148,  65136.38437472,  30820.05447868,  98196.55506472,\n",
       "        79749.64678864,  31187.56037366,  78209.8873512 ,  36636.66384523,\n",
       "        35661.70341002,  65136.38437472,  51241.95544897,  50802.07555446,\n",
       "        36544.78737148,  73379.77008388,  31095.68389992,  36728.54031897,\n",
       "        36544.78737148,  46743.66330065,  50434.56965948,  41478.31277657,\n",
       "        56531.45508501, 106801.48435444,  52125.03941043,  60913.72164763,\n",
       "        56623.33155875,  51241.95544897,  51941.28646294,  66019.46833618,\n",
       "        51058.20250148,  48086.12963083,  31279.4368474 ,  65412.01379595,\n",
       "        45700.97550366,  92815.17895494,  66111.34480992,  36820.41679272,\n",
       "       154229.00649869,  35753.57988377,  41202.68335534,  57058.56481552,\n",
       "        41478.31277657,  50966.32602774,  47810.50020959,  36636.66384523,\n",
       "        61796.80560909,  65320.13732221, 165678.47228429,  52308.79235792,\n",
       "        52033.16293668,  36636.66384523,  31003.80742617,  52033.16293668,\n",
       "        36544.78737148,  30304.4764122 ,  31095.68389992, 189360.6929944 ,\n",
       "        41294.55982908,  41478.31277657,  35845.45635751,  52400.66883166,\n",
       "        60565.71822686,  57574.142882  ,  66478.8507049 ,  46767.81241261,\n",
       "        56874.81186803,  41202.68335534,  63134.62530151,  36820.41679272,\n",
       "        31095.68389992, 135488.94323651,  41294.55982908,  35569.82693628,\n",
       "        35753.57988377,  61097.47459512,  41110.80688159,  51241.95544897,\n",
       "       155040.37769327,  60821.84517389,  31003.80742617,  57042.38651374,\n",
       "        50710.19908071,  57058.56481552,  52033.16293668, 113684.93062993,\n",
       "        56623.33155875,  56874.81186803,  70513.11384675,  65922.94522468,\n",
       "       164176.40211858,  51150.07897523,  36912.29326646,  45425.34608243,\n",
       "       158116.23079157,  51409.53009468,  35477.95046254,  42177.64379054,\n",
       "        51150.07897523, 146595.05223909,  65922.94522468,  66203.22128367,\n",
       "        55556.49464981,  31187.56037366,  35937.33283126,  45333.46960868,\n",
       "        66111.34480992,  66203.22128367,  65044.50790098,  64972.13390144,\n",
       "        73933.0374221 ,  81457.58964309,  56347.70213752,  51685.15951591,\n",
       "        35569.82693628, 126444.79528494,  61796.80560909,  30820.05447868,\n",
       "       161020.57630044,  56439.57861126,  61097.47459512,  31095.68389992,\n",
       "        51058.20250148, 135145.58645349,  30120.72346471,  31279.4368474 ,\n",
       "        80001.12709792, 136372.02719797,  60821.84517389,  42269.52026428,\n",
       "        75870.34084457,  67333.13891665,  45700.97550366,  35753.57988377,\n",
       "        36636.66384523,  47111.16919562,  61097.47459512,  64788.38095395,\n",
       "        31095.68389992,  42453.27321177,  31187.56037366,  29936.97051722,\n",
       "        61724.43160955,  42085.76731679,  31187.56037366,  66111.34480992,\n",
       "        35937.33283126,  31279.4368474 ,  48178.00610457,  46767.81241261,\n",
       "        30120.72346471,  46743.66330065,  46675.93593886,  95567.83897709,\n",
       "        66106.69817217,  36912.29326646,  55464.61817606,  55648.37112355,\n",
       "        35845.45635751,  35569.82693628,  66478.8507049 , 118091.34630451,\n",
       "        31003.80742617,  36728.54031897,  36452.91089774,  35937.33283126,\n",
       "        35937.33283126,  42453.27321177, 109018.40260323, 201623.48600896,\n",
       "        88432.91239232, 200488.92173823, 146059.31046574,  41202.68335534,\n",
       "        30304.4764122 , 133043.98009636,  31279.4368474 ,  62256.18797781,\n",
       "        29936.97051722, 175533.99143044,  56874.81186803,  36544.78737148,\n",
       "        31187.56037366,  30304.4764122 ,  30212.59993846,  31187.56037366,\n",
       "        36820.41679272,  31003.80742617,  36912.29326646,  41110.80688159,\n",
       "       187729.05708321,  46584.05946512,  50434.56965948, 116844.74185316,\n",
       "       108487.30746763,  35937.33283126,  41202.68335534,  55464.61817606,\n",
       "        62256.18797781,  66203.22128367,  42361.39673803,  45333.46960868,\n",
       "        41386.43630282,  36820.41679272,  46675.93593886,  35569.82693628,\n",
       "        36544.78737148,  82997.34908053,  31279.4368474 ,  29845.09404348,\n",
       "        61888.68208283,  36912.29326646,  51150.07897523,  30911.93095243,\n",
       "        31095.68389992,  61888.68208283,  36728.54031897,  35661.70341002,\n",
       "        31279.4368474 ,  47902.37668334,  35661.70341002,  41294.55982908,\n",
       "        52400.66883166,  85474.37968144,  56347.70213752,  52400.66883166,\n",
       "        47902.37668334,  51425.70839646,  72714.51502643,  36636.66384523,\n",
       "        66295.09775741,  41478.31277657, 102602.9707393 ,  35845.45635751,\n",
       "        35477.95046254,  51333.83192272,  29936.97051722,  66106.69817217,\n",
       "        77212.80717475,  66111.34480992,  57134.26298748,  31279.4368474 ,\n",
       "        56255.82566378,  56163.94919003,  55280.86522857,  42177.64379054,\n",
       "       193972.98135771, 113593.05415618,  35845.45635751,  61888.68208283,\n",
       "        36912.29326646,  57574.142882  ,  47019.29272188, 113776.80710367,\n",
       "        42085.76731679,  61189.35106886,  66295.09775741,  35569.82693628,\n",
       "        42269.52026428,  81159.84048061,  36912.29326646,  42177.64379054,\n",
       "       149040.01537924,  48086.12963083,  60290.08880563,  29845.09404348,\n",
       "        51150.07897523,  81305.90415636,  62164.31150406,  41570.18925031,\n",
       "        66203.22128367,  36912.29326646,  35477.95046254,  61281.22754261,\n",
       "        35753.57988377,  52400.66883166,  42545.14968552,  35753.57988377,\n",
       "        41386.43630282,  57666.01935574,  52400.66883166,  31187.56037366,\n",
       "        41294.55982908,  36728.54031897,  50966.32602774,  41570.18925031,\n",
       "        31279.4368474 ,  30120.72346471,  42545.14968552,  52308.79235792,\n",
       "        42177.64379054,  46492.18299137,  36820.41679272, 107168.99024941,\n",
       "        35753.57988377,  35753.57988377,  42085.76731679,  42269.52026428,\n",
       "        35937.33283126,  35661.70341002,  42085.76731679,  30120.72346471,\n",
       "       116748.87997433,  35661.70341002, 143842.39221695,  31187.56037366,\n",
       "        52125.03941043, 132956.0890277 ,  36452.91089774,  79657.7703149 ,\n",
       "        47994.25315708,  35753.57988377,  35937.33283126,  35569.82693628,\n",
       "        31279.4368474 ,  72530.76207894,  41110.80688159,  61888.68208283,\n",
       "        35845.45635751,  42361.39673803,  47203.04566937,  42269.52026428,\n",
       "        36912.29326646,  29845.09404348,  31003.80742617, 130759.33448578,\n",
       "        36452.91089774,  45517.22255617,  42545.14968552,  65412.01379595,\n",
       "        45792.8519774 , 125381.94378109, 176752.51382611,  36912.29326646,\n",
       "        51501.40656843,  35661.70341002,  61975.91191882,  35753.57988377,\n",
       "        65412.01379595,  51241.95544897,  31279.4368474 ,  30820.05447868,\n",
       "        31095.68389992, 120879.66622767,  55556.49464981,  42269.52026428,\n",
       "        30028.84699097,  51058.20250148,  36820.41679272,  36912.29326646,\n",
       "        52400.66883166,  45333.46960868,  29845.09404348,  68675.60524683,\n",
       "        30120.72346471,  35753.57988377,  59247.40100864,  51941.28646294,\n",
       "        55188.98875483,  57318.01593497,  84026.49671774,  56874.81186803,\n",
       "        31003.80742617,  35569.82693628,  88722.08197333,  51868.9124634 ,\n",
       "       168307.18837193, 122130.25608411,  42361.39673803,  41386.43630282,\n",
       "        31279.4368474 ,  35661.70341002,  74827.65304758,  80460.50946664,\n",
       "        30820.05447868, 125541.54761662,  35661.70341002,  36636.66384523,\n",
       "        67792.52128537,  65044.50790098, 106985.23730192,  36912.29326646,\n",
       "        50966.32602774,  30304.4764122 ,  42361.39673803])"
      ]
     },
     "execution_count": 89,
     "metadata": {},
     "output_type": "execute_result"
    }
   ],
   "source": [
    "y_pred_lr = Linear_regeression_model.predict(x_test)\n",
    "y_pred_lr"
   ]
  },
  {
   "cell_type": "code",
   "execution_count": 92,
   "id": "f87aca5b-8c3f-4723-aee6-6fbd37951045",
   "metadata": {},
   "outputs": [
    {
     "data": {
      "text/html": [
       "<div>\n",
       "<style scoped>\n",
       "    .dataframe tbody tr th:only-of-type {\n",
       "        vertical-align: middle;\n",
       "    }\n",
       "\n",
       "    .dataframe tbody tr th {\n",
       "        vertical-align: top;\n",
       "    }\n",
       "\n",
       "    .dataframe thead th {\n",
       "        text-align: right;\n",
       "    }\n",
       "</style>\n",
       "<table border=\"1\" class=\"dataframe\">\n",
       "  <thead>\n",
       "    <tr style=\"text-align: right;\">\n",
       "      <th></th>\n",
       "      <th>y_Actual</th>\n",
       "      <th>y_predicted</th>\n",
       "      <th>Error</th>\n",
       "      <th>abs_error</th>\n",
       "    </tr>\n",
       "  </thead>\n",
       "  <tbody>\n",
       "    <tr>\n",
       "      <th>228</th>\n",
       "      <td>313649</td>\n",
       "      <td>224674.103067</td>\n",
       "      <td>88974.896933</td>\n",
       "      <td>88974.896933</td>\n",
       "    </tr>\n",
       "    <tr>\n",
       "      <th>325</th>\n",
       "      <td>324783</td>\n",
       "      <td>245268.225321</td>\n",
       "      <td>79514.774679</td>\n",
       "      <td>79514.774679</td>\n",
       "    </tr>\n",
       "    <tr>\n",
       "      <th>788</th>\n",
       "      <td>40846</td>\n",
       "      <td>42177.643791</td>\n",
       "      <td>-1331.643791</td>\n",
       "      <td>1331.643791</td>\n",
       "    </tr>\n",
       "    <tr>\n",
       "      <th>1453</th>\n",
       "      <td>42455</td>\n",
       "      <td>42085.767317</td>\n",
       "      <td>369.232683</td>\n",
       "      <td>369.232683</td>\n",
       "    </tr>\n",
       "    <tr>\n",
       "      <th>1227</th>\n",
       "      <td>45278</td>\n",
       "      <td>46743.663301</td>\n",
       "      <td>-1465.663301</td>\n",
       "      <td>1465.663301</td>\n",
       "    </tr>\n",
       "    <tr>\n",
       "      <th>...</th>\n",
       "      <td>...</td>\n",
       "      <td>...</td>\n",
       "      <td>...</td>\n",
       "      <td>...</td>\n",
       "    </tr>\n",
       "    <tr>\n",
       "      <th>83</th>\n",
       "      <td>82083</td>\n",
       "      <td>106985.237302</td>\n",
       "      <td>-24902.237302</td>\n",
       "      <td>24902.237302</td>\n",
       "    </tr>\n",
       "    <tr>\n",
       "      <th>529</th>\n",
       "      <td>41819</td>\n",
       "      <td>36912.293266</td>\n",
       "      <td>4906.706734</td>\n",
       "      <td>4906.706734</td>\n",
       "    </tr>\n",
       "    <tr>\n",
       "      <th>2598</th>\n",
       "      <td>40800</td>\n",
       "      <td>50966.326028</td>\n",
       "      <td>-10166.326028</td>\n",
       "      <td>10166.326028</td>\n",
       "    </tr>\n",
       "    <tr>\n",
       "      <th>774</th>\n",
       "      <td>48343</td>\n",
       "      <td>30304.476412</td>\n",
       "      <td>18038.523588</td>\n",
       "      <td>18038.523588</td>\n",
       "    </tr>\n",
       "    <tr>\n",
       "      <th>2460</th>\n",
       "      <td>44824</td>\n",
       "      <td>42361.396738</td>\n",
       "      <td>2462.603262</td>\n",
       "      <td>2462.603262</td>\n",
       "    </tr>\n",
       "  </tbody>\n",
       "</table>\n",
       "<p>527 rows × 4 columns</p>\n",
       "</div>"
      ],
      "text/plain": [
       "      y_Actual    y_predicted         Error     abs_error\n",
       "228     313649  224674.103067  88974.896933  88974.896933\n",
       "325     324783  245268.225321  79514.774679  79514.774679\n",
       "788      40846   42177.643791  -1331.643791   1331.643791\n",
       "1453     42455   42085.767317    369.232683    369.232683\n",
       "1227     45278   46743.663301  -1465.663301   1465.663301\n",
       "...        ...            ...           ...           ...\n",
       "83       82083  106985.237302 -24902.237302  24902.237302\n",
       "529      41819   36912.293266   4906.706734   4906.706734\n",
       "2598     40800   50966.326028 -10166.326028  10166.326028\n",
       "774      48343   30304.476412  18038.523588  18038.523588\n",
       "2460     44824   42361.396738   2462.603262   2462.603262\n",
       "\n",
       "[527 rows x 4 columns]"
      ]
     },
     "execution_count": 92,
     "metadata": {},
     "output_type": "execute_result"
    }
   ],
   "source": [
    "df = pd.DataFrame({'y_Actual' :y_test, 'y_predicted' :y_pred_lr})\n",
    "df['Error'] = df['y_Actual'] - df['y_predicted']\n",
    "df['abs_error'] = abs(df['Error'])\n",
    "df"
   ]
  },
  {
   "cell_type": "code",
   "execution_count": 93,
   "id": "f72a973b-1836-47ad-b9db-f7b5f5855954",
   "metadata": {},
   "outputs": [
    {
     "data": {
      "text/plain": [
       "12355.190667984023"
      ]
     },
     "execution_count": 93,
     "metadata": {},
     "output_type": "execute_result"
    }
   ],
   "source": [
    "Mean_absolute_Error = df['abs_error'].mean()\n",
    "Mean_absolute_Error"
   ]
  },
  {
   "cell_type": "markdown",
   "id": "5641c409-b4bf-4f20-9369-df3a65cefabd",
   "metadata": {},
   "source": [
    "## Model Evaluation"
   ]
  },
  {
   "cell_type": "code",
   "execution_count": 95,
   "id": "6a4a2c6c-7274-4646-b39f-c2b6e5b6084d",
   "metadata": {},
   "outputs": [],
   "source": [
    "from sklearn.metrics import accuracy_score,r2_score\n",
    "from sklearn.metrics import mean_squared_error,mean_absolute_error"
   ]
  },
  {
   "cell_type": "code",
   "execution_count": 96,
   "id": "54a7ea78-15ee-4efb-b617-8dccd060940f",
   "metadata": {},
   "outputs": [
    {
     "data": {
      "text/plain": [
       "0.7896689263909535"
      ]
     },
     "execution_count": 96,
     "metadata": {},
     "output_type": "execute_result"
    }
   ],
   "source": [
    "r2_score(y_test, y_pred_lr)"
   ]
  },
  {
   "cell_type": "code",
   "execution_count": 97,
   "id": "bb60abb6-1233-4a7d-9a05-82a61239a392",
   "metadata": {},
   "outputs": [
    {
     "name": "stdout",
     "output_type": "stream",
     "text": [
      "Accuracy of the model = 78.97%\n"
     ]
    }
   ],
   "source": [
    "print(f'Accuracy of the model = {round(r2_score(y_test, y_pred_lr),4)*100}%')"
   ]
  },
  {
   "cell_type": "code",
   "execution_count": 98,
   "id": "3f7cf6fd-6eeb-4bdf-a7f0-be01b4071359",
   "metadata": {},
   "outputs": [
    {
     "data": {
      "text/plain": [
       "12355.19"
      ]
     },
     "execution_count": 98,
     "metadata": {},
     "output_type": "execute_result"
    }
   ],
   "source": [
    "round(mean_absolute_error(y_test,y_pred_lr),2)"
   ]
  },
  {
   "cell_type": "code",
   "execution_count": 99,
   "id": "0a136eef-e17a-4a1c-a15e-162b6f2f7519",
   "metadata": {},
   "outputs": [
    {
     "name": "stdout",
     "output_type": "stream",
     "text": [
      "Mean Absolute Error = 12355.19\n"
     ]
    }
   ],
   "source": [
    "print(f\"Mean Absolute Error = {round(mean_absolute_error(y_test, y_pred_lr),2)}\")"
   ]
  },
  {
   "cell_type": "code",
   "execution_count": 100,
   "id": "54265505-3a95-440f-8810-33890f7b022e",
   "metadata": {},
   "outputs": [
    {
     "data": {
      "text/plain": [
       "347127385.37"
      ]
     },
     "execution_count": 100,
     "metadata": {},
     "output_type": "execute_result"
    }
   ],
   "source": [
    " mse = round(mean_squared_error(y_test, y_pred_lr),2)\n",
    " mse"
   ]
  },
  {
   "cell_type": "code",
   "execution_count": 101,
   "id": "c8ea34c2-b39a-43bf-b566-d88fb49659d7",
   "metadata": {},
   "outputs": [
    {
     "name": "stdout",
     "output_type": "stream",
     "text": [
      "Mean Sqaured Error = 347127385.37\n"
     ]
    }
   ],
   "source": [
    "print(f\"Mean Sqaured Error = {round(mean_squared_error(y_test, y_pred_lr),2)}\")"
   ]
  },
  {
   "cell_type": "code",
   "execution_count": 102,
   "id": "f948e3a0-f05b-4364-8df9-2b11f92ad3d1",
   "metadata": {},
   "outputs": [
    {
     "name": "stdout",
     "output_type": "stream",
     "text": [
      "Root Mean Squared Error (RMSE) =  18631.354898933143\n"
     ]
    }
   ],
   "source": [
    " print('Root Mean Squared Error (RMSE) = ', mse**(0.5))"
   ]
  },
  {
   "cell_type": "code",
   "execution_count": 103,
   "id": "88035da9-d24b-487f-a858-2802c9f6ae34",
   "metadata": {},
   "outputs": [
    {
     "data": {
      "text/plain": [
       "array([21988.36385856,  -974.9604352 ,  -485.48751506, 11507.20813128,\n",
       "          91.87647374])"
      ]
     },
     "execution_count": 103,
     "metadata": {},
     "output_type": "execute_result"
    }
   ],
   "source": [
    " Linear_regeression_model.coef_"
   ]
  },
  {
   "cell_type": "code",
   "execution_count": 104,
   "id": "5f19d2f3-0f9a-44ae-bed0-b55a086697c3",
   "metadata": {},
   "outputs": [
    {
     "data": {
      "text/plain": [
       "58561.77581381475"
      ]
     },
     "execution_count": 104,
     "metadata": {},
     "output_type": "execute_result"
    }
   ],
   "source": [
    " Linear_regeression_model.intercept_"
   ]
  },
  {
   "cell_type": "code",
   "execution_count": 105,
   "id": "8cfea77e-cdb9-430a-9c4b-dad197af2d61",
   "metadata": {},
   "outputs": [
    {
     "data": {
      "text/plain": [
       "<bound method NDFrame.head of      SEX     DESIGNATION   AGE  SALARY        UNIT  LEAVES USED  \\\n",
       "0      F         Analyst  21.0   44570     Finance         24.0   \n",
       "2      F         Analyst  21.0   40955     Finance         23.0   \n",
       "3      F         Analyst  22.0   45550          IT         22.0   \n",
       "5      F         Analyst  22.0   48736   Marketing         20.0   \n",
       "6      M         Analyst  22.0   40339   Marketing         19.0   \n",
       "...   ..             ...   ...     ...         ...          ...   \n",
       "2634   F  Senior Manager  36.0  185977  Management         15.0   \n",
       "2635   F         Analyst  23.0   45758          IT         17.0   \n",
       "2636   F         Analyst  21.0   47315         Web         29.0   \n",
       "2637   F         Analyst  24.0   45172         Web         23.0   \n",
       "2638   M         Analyst  24.0   49176   Marketing         17.0   \n",
       "\n",
       "      LEAVES REMAINING  RATINGS  PAST EXP  SEX_Encode  DESIGNATION_Encode  \\\n",
       "0                  6.0      2.0         0           0                   0   \n",
       "2                  7.0      3.0         0           0                   0   \n",
       "3                  8.0      3.0         0           0                   0   \n",
       "5                 10.0      4.0         0           0                   0   \n",
       "6                 11.0      5.0         0           1                   0   \n",
       "...                ...      ...       ...         ...                 ...   \n",
       "2634              15.0      5.0        10           0                   5   \n",
       "2635              13.0      2.0         0           0                   0   \n",
       "2636               1.0      5.0         0           0                   0   \n",
       "2637               7.0      3.0         1           0                   0   \n",
       "2638              13.0      2.0         2           1                   0   \n",
       "\n",
       "      UNIT_Encode  AGE_scaled  PAST EXP_scaled  \n",
       "0               0   -0.961627        -0.573302  \n",
       "2               0   -0.961627        -0.573302  \n",
       "3               1   -0.705453        -0.573302  \n",
       "5               3   -0.705453        -0.573302  \n",
       "6               3   -0.705453        -0.573302  \n",
       "...           ...         ...              ...  \n",
       "2634            2    2.880989         3.096278  \n",
       "2635            1   -0.449279        -0.573302  \n",
       "2636            5   -0.961627        -0.573302  \n",
       "2637            5   -0.193104        -0.206344  \n",
       "2638            3   -0.193104         0.160614  \n",
       "\n",
       "[2632 rows x 14 columns]>"
      ]
     },
     "execution_count": 105,
     "metadata": {},
     "output_type": "execute_result"
    }
   ],
   "source": [
    "df1.head"
   ]
  },
  {
   "cell_type": "code",
   "execution_count": 107,
   "id": "f46ecbba-3c53-45d8-9fd3-60eae7076760",
   "metadata": {},
   "outputs": [
    {
     "name": "stderr",
     "output_type": "stream",
     "text": [
      "C:\\Python311\\Lib\\site-packages\\sklearn\\base.py:493: UserWarning: X does not have valid feature names, but StandardScaler was fitted with feature names\n",
      "  warnings.warn(\n",
      "C:\\Python311\\Lib\\site-packages\\sklearn\\base.py:493: UserWarning: X does not have valid feature names, but StandardScaler was fitted with feature names\n",
      "  warnings.warn(\n"
     ]
    }
   ],
   "source": [
    "AGE1 = std_scaler.transform([[25]])\n",
    "AGE = 8.60064915\n",
    "SEX = 0\n",
    "DESIGNATION = 1\n",
    "PASTEXP1 = std_scaler.transform([[1]])\n",
    "PASTEXP =-0.2063442\n",
    "UNIT = 3"
   ]
  },
  {
   "cell_type": "code",
   "execution_count": 108,
   "id": "8f55fe61-8e09-4ef6-bbad-f1daed0d69b8",
   "metadata": {},
   "outputs": [
    {
     "name": "stderr",
     "output_type": "stream",
     "text": [
      "C:\\Python311\\Lib\\site-packages\\sklearn\\base.py:493: UserWarning: X does not have valid feature names, but StandardScaler was fitted with feature names\n",
      "  warnings.warn(\n"
     ]
    },
    {
     "data": {
      "text/plain": [
       "array([[8.60064915]])"
      ]
     },
     "execution_count": 108,
     "metadata": {},
     "output_type": "execute_result"
    }
   ],
   "source": [
    "std_scaler.transform([[25]])"
   ]
  },
  {
   "cell_type": "code",
   "execution_count": 109,
   "id": "1fe7c45b-0da8-4f94-8864-50734c1173e8",
   "metadata": {},
   "outputs": [
    {
     "name": "stderr",
     "output_type": "stream",
     "text": [
      "C:\\Python311\\Lib\\site-packages\\sklearn\\base.py:493: UserWarning: X does not have valid feature names, but StandardScaler was fitted with feature names\n",
      "  warnings.warn(\n"
     ]
    },
    {
     "data": {
      "text/plain": [
       "array([[-0.2063442]])"
      ]
     },
     "execution_count": 109,
     "metadata": {},
     "output_type": "execute_result"
    }
   ],
   "source": [
    "std_scaler.transform([[1]])"
   ]
  },
  {
   "cell_type": "code",
   "execution_count": 110,
   "id": "6dce57ce-e9c8-4f60-adc7-cab26967b495",
   "metadata": {},
   "outputs": [
    {
     "name": "stderr",
     "output_type": "stream",
     "text": [
      "C:\\Python311\\Lib\\site-packages\\sklearn\\base.py:493: UserWarning: X does not have valid feature names, but LinearRegression was fitted with feature names\n",
      "  warnings.warn(\n"
     ]
    },
    {
     "data": {
      "text/plain": [
       "array([245091.67499391])"
      ]
     },
     "execution_count": 110,
     "metadata": {},
     "output_type": "execute_result"
    }
   ],
   "source": [
    " Salary = Linear_regeression_model.predict([[AGE,SEX, DESIGNATION,\n",
    " PASTEXP,UNIT]])\n",
    " Salary"
   ]
  },
  {
   "cell_type": "code",
   "execution_count": 111,
   "id": "c4f5d822-d58b-4e18-bb9c-ba3e05f6f93e",
   "metadata": {},
   "outputs": [
    {
     "name": "stdout",
     "output_type": "stream",
     "text": [
      "Salary of the Employee with above Attributes =  245091.6749939112\n"
     ]
    }
   ],
   "source": [
    "print(\"Salary of the Employee with above Attributes = \", Salary[0])"
   ]
  },
  {
   "cell_type": "code",
   "execution_count": 112,
   "id": "6ff35faa-77dc-4dd5-9eb8-5aa820adfd75",
   "metadata": {},
   "outputs": [],
   "source": [
    "import pickle"
   ]
  },
  {
   "cell_type": "code",
   "execution_count": 114,
   "id": "b54fb941-ab35-4aef-b58e-6fecbd54bd27",
   "metadata": {},
   "outputs": [
    {
     "name": "stdout",
     "output_type": "stream",
     "text": [
      "Model saved successfully\n"
     ]
    }
   ],
   "source": [
    " with open('Linear_regeression_model.pkl', 'wb')as file:\n",
    "   pickle.dump(Linear_regeression_model, file)\n",
    " print(\"Model saved successfully\")"
   ]
  },
  {
   "cell_type": "code",
   "execution_count": null,
   "id": "ae864957-37df-472e-a7a0-ed789c9fc74e",
   "metadata": {},
   "outputs": [],
   "source": []
  }
 ],
 "metadata": {
  "kernelspec": {
   "display_name": "Python 3 (ipykernel)",
   "language": "python",
   "name": "python3"
  },
  "language_info": {
   "codemirror_mode": {
    "name": "ipython",
    "version": 3
   },
   "file_extension": ".py",
   "mimetype": "text/x-python",
   "name": "python",
   "nbconvert_exporter": "python",
   "pygments_lexer": "ipython3",
   "version": "3.11.5"
  }
 },
 "nbformat": 4,
 "nbformat_minor": 5
}
